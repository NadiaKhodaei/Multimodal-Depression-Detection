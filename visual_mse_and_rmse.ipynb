{
  "nbformat": 4,
  "nbformat_minor": 0,
  "metadata": {
    "kernelspec": {
      "display_name": "Python 3",
      "language": "python",
      "name": "python3"
    },
    "language_info": {
      "codemirror_mode": {
        "name": "ipython",
        "version": 3
      },
      "file_extension": ".py",
      "mimetype": "text/x-python",
      "name": "python",
      "nbconvert_exporter": "python",
      "pygments_lexer": "ipython3",
      "version": "3.7.6"
    },
    "colab": {
      "name": "visual mse and rmse.ipynb",
      "provenance": [],
      "include_colab_link": true
    }
  },
  "cells": [
    {
      "cell_type": "markdown",
      "metadata": {
        "id": "view-in-github",
        "colab_type": "text"
      },
      "source": [
        "<a href=\"https://colab.research.google.com/github/nadiaaaa95/Multimodal-Depression-Detection/blob/main/visual_mse_and_rmse.ipynb\" target=\"_parent\"><img src=\"https://colab.research.google.com/assets/colab-badge.svg\" alt=\"Open In Colab\"/></a>"
      ]
    },
    {
      "cell_type": "code",
      "metadata": {
        "id": "et_FTyF0YYmW",
        "outputId": "f9bda775-aead-4313-8abd-cf42c0d39d00"
      },
      "source": [
        "import numpy as np\n",
        "import sklearn.metrics\n",
        "import pandas as pd\n",
        "from load_data import load_development_data\n",
        "from keras.models import load_model\n",
        "from matplotlib import pyplot as plt\n",
        "from sklearn.ensemble import RandomForestClassifier\n",
        "from sklearn.metrics import classification_report\n",
        "import os\n",
        "from sklearn.model_selection import train_test_split\n",
        "os.environ[\"CUDA_VISIBLE_DEVICES\"]=\"1\"\n",
        "\n",
        "if __name__ == \"__main__\":\n",
        "\n",
        "\tmodel = load_model('min_model.h5')\n",
        "\n",
        "\tX_dev, Y_dev, X_dev_gender = load_development_data()\n",
        "\n",
        "\tmodel.compile(loss = 'mse', optimizer = 'adam', metrics = ['mean_absolute_error'])\n",
        "\n",
        "\tY_hat_dev = model.predict([X_dev, X_dev_gender])\n",
        "\n",
        "\tY_dev = np.array(Y_dev)\n",
        "\tY_hat_dev = Y_hat_dev.reshape((Y_dev.shape[0],))\n",
        "\n",
        "\tRMSE = np.sqrt(sklearn.metrics.mean_squared_error(Y_dev, Y_hat_dev))\n",
        "\tMAE = sklearn.metrics.mean_absolute_error(Y_dev, Y_hat_dev)\n",
        "\tEVS = sklearn.metrics.explained_variance_score(Y_dev, Y_hat_dev)\n"
      ],
      "execution_count": null,
      "outputs": [
        {
          "output_type": "stream",
          "text": [
            "/opt/anaconda3/lib/python3.7/site-packages/keras/engine/saving.py:384: UserWarning: Error in loading the saved optimizer state. As a result, your model is starting with a freshly initialized optimizer.\n",
            "  warnings.warn('Error in loading the saved optimizer '\n"
          ],
          "name": "stderr"
        },
        {
          "output_type": "stream",
          "text": [
            "Development data is loaded.\n"
          ],
          "name": "stdout"
        }
      ]
    },
    {
      "cell_type": "code",
      "metadata": {
        "id": "GAMZrBeuYYms",
        "outputId": "8eb2ab26-68d4-45b0-be3f-0959e10ed524"
      },
      "source": [
        "from load_data import load_training_data   \n",
        "\n",
        "if __name__ == \"__main__\":\n",
        "\n",
        "\tmodel = load_model('min_model.h5')\n",
        "\n",
        "\tX_trainT, Y_trainT, X_train_genderT = load_training_data()\n",
        "\n",
        "\tmodel.compile(loss = 'mse', optimizer = 'adam', metrics = ['mean_absolute_error'])\n",
        "\n",
        "\tY_hat_trainT = model.predict([X_trainT, X_train_genderT])\n",
        "\n",
        "\tY_trainT = np.array(Y_trainT)\n",
        "\tY_hat_trainT = Y_hat_trainT.reshape((Y_trainT.shape[0],))\n",
        "\n",
        "\tRMSETRA = np.sqrt(sklearn.metrics.mean_squared_error(Y_trainT, Y_hat_trainT))\n",
        "\tMAETRA = sklearn.metrics.mean_absolute_error(Y_trainT, Y_hat_trainT)\n",
        "\tEVSTRA = sklearn.metrics.explained_variance_score(Y_trainT, Y_hat_trainT)"
      ],
      "execution_count": null,
      "outputs": [
        {
          "output_type": "stream",
          "text": [
            "/opt/anaconda3/lib/python3.7/site-packages/keras/engine/saving.py:384: UserWarning: Error in loading the saved optimizer state. As a result, your model is starting with a freshly initialized optimizer.\n",
            "  warnings.warn('Error in loading the saved optimizer '\n"
          ],
          "name": "stderr"
        },
        {
          "output_type": "stream",
          "text": [
            "Training data is loaded.\n"
          ],
          "name": "stdout"
        }
      ]
    },
    {
      "cell_type": "code",
      "metadata": {
        "id": "ncUAd-s6YYm5",
        "outputId": "c44a70df-5db1-44b6-f671-23bffad8f2be"
      },
      "source": [
        "models_initial2 = pd.DataFrame({\n",
        " 'MODEL' : [\"DEV_SPLIT\",\"TRAIN_SPLIT\"],\n",
        " 'RMSE' : [RMSE,RMSETRA],\n",
        " 'MAE'  : [MAE,MAETRA],\n",
        " 'EVS'  : [EVS,EVSTRA], }, columns = ['MODEL','RMSE', 'MAE', 'EVS'])\n",
        "models_initial2.sort_values(by='MAE', ascending=False)"
      ],
      "execution_count": null,
      "outputs": [
        {
          "output_type": "execute_result",
          "data": {
            "text/html": [
              "<div>\n",
              "<style scoped>\n",
              "    .dataframe tbody tr th:only-of-type {\n",
              "        vertical-align: middle;\n",
              "    }\n",
              "\n",
              "    .dataframe tbody tr th {\n",
              "        vertical-align: top;\n",
              "    }\n",
              "\n",
              "    .dataframe thead th {\n",
              "        text-align: right;\n",
              "    }\n",
              "</style>\n",
              "<table border=\"1\" class=\"dataframe\">\n",
              "  <thead>\n",
              "    <tr style=\"text-align: right;\">\n",
              "      <th></th>\n",
              "      <th>MODEL</th>\n",
              "      <th>RMSE</th>\n",
              "      <th>MAE</th>\n",
              "      <th>EVS</th>\n",
              "    </tr>\n",
              "  </thead>\n",
              "  <tbody>\n",
              "    <tr>\n",
              "      <th>0</th>\n",
              "      <td>DEV_SPLIT</td>\n",
              "      <td>5.588013</td>\n",
              "      <td>4.283118</td>\n",
              "      <td>0.322135</td>\n",
              "    </tr>\n",
              "    <tr>\n",
              "      <th>1</th>\n",
              "      <td>TRAIN_SPLIT</td>\n",
              "      <td>2.579057</td>\n",
              "      <td>1.775269</td>\n",
              "      <td>0.781460</td>\n",
              "    </tr>\n",
              "  </tbody>\n",
              "</table>\n",
              "</div>"
            ],
            "text/plain": [
              "         MODEL      RMSE       MAE       EVS\n",
              "0    DEV_SPLIT  5.588013  4.283118  0.322135\n",
              "1  TRAIN_SPLIT  2.579057  1.775269  0.781460"
            ]
          },
          "metadata": {
            "tags": []
          },
          "execution_count": 63
        }
      ]
    },
    {
      "cell_type": "code",
      "metadata": {
        "id": "gtZaknM_YYnF"
      },
      "source": [
        ""
      ],
      "execution_count": null,
      "outputs": []
    },
    {
      "cell_type": "code",
      "metadata": {
        "id": "w2rGHbfaYYnQ"
      },
      "source": [
        ""
      ],
      "execution_count": null,
      "outputs": []
    },
    {
      "cell_type": "code",
      "metadata": {
        "id": "7DwlvO9JYYnb"
      },
      "source": [
        ""
      ],
      "execution_count": null,
      "outputs": []
    },
    {
      "cell_type": "code",
      "metadata": {
        "id": "E5skK2XGYYni"
      },
      "source": [
        ""
      ],
      "execution_count": null,
      "outputs": []
    }
  ]
}