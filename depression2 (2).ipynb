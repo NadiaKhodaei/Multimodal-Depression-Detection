{
 "cells": [
  {
   "cell_type": "code",
   "execution_count": 1,
   "metadata": {
    "colab": {
     "base_uri": "https://localhost:8080/",
     "height": 392
    },
    "executionInfo": {
     "elapsed": 1228,
     "status": "error",
     "timestamp": 1605100530869,
     "user": {
      "displayName": "nadia khodaie",
      "photoUrl": "https://lh3.googleusercontent.com/-lQEArhapi5M/AAAAAAAAAAI/AAAAAAAAABI/wkyEJ1yqTmY/s64/photo.jpg",
      "userId": "03962699466993045402"
     },
     "user_tz": -210
    },
    "id": "oNBiXOstFppL",
    "outputId": "11c86379-ea04-460b-ca18-9c22d8ce5831"
   },
   "outputs": [
    {
     "name": "stdout",
     "output_type": "stream",
     "text": [
      " data read successfully!\n"
     ]
    }
   ],
   "source": [
    "# Import libraries\n",
    "import pandas as pd\n",
    "import numpy as np\n",
    "from sklearn.metrics import roc_auc_score, accuracy_score, precision_score, recall_score, f1_score\n",
    "from sklearn.linear_model import LogisticRegression\n",
    "from sklearn.tree import DecisionTreeClassifier\n",
    "from sklearn.svm import SVC\n",
    "from sklearn.ensemble import RandomForestClassifier\n",
    "from sklearn.discriminant_analysis import LinearDiscriminantAnalysis, QuadraticDiscriminantAnalysis\n",
    "from sklearn.cluster import KMeans\n",
    "from sklearn.neighbors import KNeighborsClassifier\n",
    "from sklearn.metrics import precision_recall_fscore_support\n",
    "from sklearn.metrics import mean_squared_error as mse\n",
    "from sklearn.preprocessing import StandardScaler\n",
    "from sklearn.model_selection import cross_validate\n",
    "from sklearn.model_selection import train_test_split\n",
    "from sklearn.ensemble import ExtraTreesClassifier\n",
    "from sklearn.feature_selection import SelectFromModel\n",
    "from sklearn.svm import LinearSVC\n",
    "from sklearn.ensemble import VotingClassifier\n",
    "from sklearn.feature_selection import RFECV\n",
    "import seaborn as sns\n",
    "from sklearn.metrics import confusion_matrix \n",
    "from sklearn.metrics import accuracy_score \n",
    "from sklearn.metrics import classification_report\n",
    "import matplotlib.pyplot as plts\n",
    "from sklearn.preprocessing import PolynomialFeatures\n",
    "from sklearn.pipeline import make_pipeline\n",
    "from sklearn.neural_network import MLPClassifier\n",
    "from sklearn.linear_model import LinearRegression\n",
    "from sklearn import metrics\n",
    "from sklearn.naive_bayes import GaussianNB\n",
    "from sklearn.svm import SVC\n",
    "from matplotlib import pyplot as plt\n",
    "import time\n",
    "import cv2\n",
    "# Put this when it's called\n",
    "from sklearn.model_selection import train_test_split\n",
    "from sklearn.model_selection import learning_curve\n",
    "from sklearn.model_selection import validation_curve\n",
    "from sklearn.model_selection import cross_val_score\n",
    "from sklearn.linear_model import LogisticRegression\n",
    "# Read student data\n",
    "dev_dep = pd.read_csv(\"dev_split_Depression_AVEC2017.csv\")\n",
    "train_dep = pd.read_csv(\"train_split_Depression_AVEC2017.csv\")\n",
    "df_dep = pd.concat([dev_dep, train_dep], axis=0)\n",
    "print (\" data read successfully!\")\n"
   ]
  },
  {
   "cell_type": "code",
   "execution_count": 2,
   "metadata": {},
   "outputs": [
    {
     "data": {
      "text/html": [
       "<div>\n",
       "<style scoped>\n",
       "    .dataframe tbody tr th:only-of-type {\n",
       "        vertical-align: middle;\n",
       "    }\n",
       "\n",
       "    .dataframe tbody tr th {\n",
       "        vertical-align: top;\n",
       "    }\n",
       "\n",
       "    .dataframe thead th {\n",
       "        text-align: right;\n",
       "    }\n",
       "</style>\n",
       "<table border=\"1\" class=\"dataframe\">\n",
       "  <thead>\n",
       "    <tr style=\"text-align: right;\">\n",
       "      <th></th>\n",
       "      <th>Participant_ID</th>\n",
       "      <th>PHQ8_Binary</th>\n",
       "      <th>PHQ8_Score</th>\n",
       "      <th>Gender</th>\n",
       "      <th>PHQ8_NoInterest</th>\n",
       "      <th>PHQ8_Depressed</th>\n",
       "      <th>PHQ8_Sleep</th>\n",
       "      <th>PHQ8_Tired</th>\n",
       "      <th>PHQ8_Appetite</th>\n",
       "      <th>PHQ8_Failure</th>\n",
       "      <th>PHQ8_Concentrating</th>\n",
       "      <th>PHQ8_Moving</th>\n",
       "    </tr>\n",
       "  </thead>\n",
       "  <tbody>\n",
       "    <tr>\n",
       "      <th>0</th>\n",
       "      <td>302</td>\n",
       "      <td>0</td>\n",
       "      <td>4</td>\n",
       "      <td>1</td>\n",
       "      <td>1</td>\n",
       "      <td>1</td>\n",
       "      <td>0</td>\n",
       "      <td>1</td>\n",
       "      <td>0</td>\n",
       "      <td>1</td>\n",
       "      <td>0</td>\n",
       "      <td>0</td>\n",
       "    </tr>\n",
       "    <tr>\n",
       "      <th>1</th>\n",
       "      <td>307</td>\n",
       "      <td>0</td>\n",
       "      <td>4</td>\n",
       "      <td>0</td>\n",
       "      <td>0</td>\n",
       "      <td>1</td>\n",
       "      <td>0</td>\n",
       "      <td>1</td>\n",
       "      <td>0</td>\n",
       "      <td>2</td>\n",
       "      <td>0</td>\n",
       "      <td>0</td>\n",
       "    </tr>\n",
       "    <tr>\n",
       "      <th>2</th>\n",
       "      <td>331</td>\n",
       "      <td>0</td>\n",
       "      <td>8</td>\n",
       "      <td>1</td>\n",
       "      <td>1</td>\n",
       "      <td>1</td>\n",
       "      <td>1</td>\n",
       "      <td>1</td>\n",
       "      <td>1</td>\n",
       "      <td>1</td>\n",
       "      <td>1</td>\n",
       "      <td>1</td>\n",
       "    </tr>\n",
       "    <tr>\n",
       "      <th>3</th>\n",
       "      <td>335</td>\n",
       "      <td>1</td>\n",
       "      <td>12</td>\n",
       "      <td>0</td>\n",
       "      <td>1</td>\n",
       "      <td>1</td>\n",
       "      <td>3</td>\n",
       "      <td>2</td>\n",
       "      <td>3</td>\n",
       "      <td>1</td>\n",
       "      <td>1</td>\n",
       "      <td>0</td>\n",
       "    </tr>\n",
       "    <tr>\n",
       "      <th>4</th>\n",
       "      <td>346</td>\n",
       "      <td>1</td>\n",
       "      <td>23</td>\n",
       "      <td>0</td>\n",
       "      <td>2</td>\n",
       "      <td>3</td>\n",
       "      <td>3</td>\n",
       "      <td>3</td>\n",
       "      <td>3</td>\n",
       "      <td>3</td>\n",
       "      <td>3</td>\n",
       "      <td>3</td>\n",
       "    </tr>\n",
       "  </tbody>\n",
       "</table>\n",
       "</div>"
      ],
      "text/plain": [
       "   Participant_ID  PHQ8_Binary  PHQ8_Score  Gender  PHQ8_NoInterest  \\\n",
       "0             302            0           4       1                1   \n",
       "1             307            0           4       0                0   \n",
       "2             331            0           8       1                1   \n",
       "3             335            1          12       0                1   \n",
       "4             346            1          23       0                2   \n",
       "\n",
       "   PHQ8_Depressed  PHQ8_Sleep  PHQ8_Tired  PHQ8_Appetite  PHQ8_Failure  \\\n",
       "0               1           0           1              0             1   \n",
       "1               1           0           1              0             2   \n",
       "2               1           1           1              1             1   \n",
       "3               1           3           2              3             1   \n",
       "4               3           3           3              3             3   \n",
       "\n",
       "   PHQ8_Concentrating  PHQ8_Moving  \n",
       "0                   0            0  \n",
       "1                   0            0  \n",
       "2                   1            1  \n",
       "3                   1            0  \n",
       "4                   3            3  "
      ]
     },
     "execution_count": 2,
     "metadata": {},
     "output_type": "execute_result"
    }
   ],
   "source": [
    "dev_dep.head()"
   ]
  },
  {
   "cell_type": "code",
   "execution_count": null,
   "metadata": {
    "colab": {
     "base_uri": "https://localhost:8080/"
    },
    "executionInfo": {
     "elapsed": 2058,
     "status": "ok",
     "timestamp": 1605035811502,
     "user": {
      "displayName": "nadia khodaie",
      "photoUrl": "https://lh3.googleusercontent.com/-lQEArhapi5M/AAAAAAAAAAI/AAAAAAAAABI/wkyEJ1yqTmY/s64/photo.jpg",
      "userId": "03962699466993045402"
     },
     "user_tz": -210
    },
    "id": "aGTRM9daFppV",
    "outputId": "028421a5-a956-4a7e-e3c1-baf29ce8478e"
   },
   "outputs": [],
   "source": []
  },
  {
   "cell_type": "code",
   "execution_count": 59,
   "metadata": {
    "colab": {
     "base_uri": "https://localhost:8080/",
     "height": 181
    },
    "executionInfo": {
     "elapsed": 1483,
     "status": "error",
     "timestamp": 1605035646056,
     "user": {
      "displayName": "nadia khodaie",
      "photoUrl": "https://lh3.googleusercontent.com/-lQEArhapi5M/AAAAAAAAAAI/AAAAAAAAABI/wkyEJ1yqTmY/s64/photo.jpg",
      "userId": "03962699466993045402"
     },
     "user_tz": -210
    },
    "id": "JdFLqQSwFppc",
    "outputId": "56e55df5-d35b-40c5-c273-154f00703d8c"
   },
   "outputs": [
    {
     "data": {
      "text/html": [
       "<div>\n",
       "<style scoped>\n",
       "    .dataframe tbody tr th:only-of-type {\n",
       "        vertical-align: middle;\n",
       "    }\n",
       "\n",
       "    .dataframe tbody tr th {\n",
       "        vertical-align: top;\n",
       "    }\n",
       "\n",
       "    .dataframe thead th {\n",
       "        text-align: right;\n",
       "    }\n",
       "</style>\n",
       "<table border=\"1\" class=\"dataframe\">\n",
       "  <thead>\n",
       "    <tr style=\"text-align: right;\">\n",
       "      <th></th>\n",
       "      <th>Participant_ID</th>\n",
       "      <th>PHQ8_Binary</th>\n",
       "      <th>PHQ8_Score</th>\n",
       "      <th>Gender</th>\n",
       "      <th>PHQ8_NoInterest</th>\n",
       "      <th>PHQ8_Depressed</th>\n",
       "      <th>PHQ8_Sleep</th>\n",
       "      <th>PHQ8_Tired</th>\n",
       "      <th>PHQ8_Appetite</th>\n",
       "      <th>PHQ8_Failure</th>\n",
       "      <th>PHQ8_Concentrating</th>\n",
       "      <th>PHQ8_Moving</th>\n",
       "    </tr>\n",
       "  </thead>\n",
       "  <tbody>\n",
       "    <tr>\n",
       "      <th>0</th>\n",
       "      <td>302</td>\n",
       "      <td>0</td>\n",
       "      <td>4</td>\n",
       "      <td>1</td>\n",
       "      <td>1</td>\n",
       "      <td>1</td>\n",
       "      <td>0</td>\n",
       "      <td>1</td>\n",
       "      <td>0</td>\n",
       "      <td>1</td>\n",
       "      <td>0</td>\n",
       "      <td>0</td>\n",
       "    </tr>\n",
       "    <tr>\n",
       "      <th>1</th>\n",
       "      <td>307</td>\n",
       "      <td>0</td>\n",
       "      <td>4</td>\n",
       "      <td>0</td>\n",
       "      <td>0</td>\n",
       "      <td>1</td>\n",
       "      <td>0</td>\n",
       "      <td>1</td>\n",
       "      <td>0</td>\n",
       "      <td>2</td>\n",
       "      <td>0</td>\n",
       "      <td>0</td>\n",
       "    </tr>\n",
       "    <tr>\n",
       "      <th>2</th>\n",
       "      <td>331</td>\n",
       "      <td>0</td>\n",
       "      <td>8</td>\n",
       "      <td>1</td>\n",
       "      <td>1</td>\n",
       "      <td>1</td>\n",
       "      <td>1</td>\n",
       "      <td>1</td>\n",
       "      <td>1</td>\n",
       "      <td>1</td>\n",
       "      <td>1</td>\n",
       "      <td>1</td>\n",
       "    </tr>\n",
       "    <tr>\n",
       "      <th>3</th>\n",
       "      <td>335</td>\n",
       "      <td>1</td>\n",
       "      <td>12</td>\n",
       "      <td>0</td>\n",
       "      <td>1</td>\n",
       "      <td>1</td>\n",
       "      <td>3</td>\n",
       "      <td>2</td>\n",
       "      <td>3</td>\n",
       "      <td>1</td>\n",
       "      <td>1</td>\n",
       "      <td>0</td>\n",
       "    </tr>\n",
       "    <tr>\n",
       "      <th>4</th>\n",
       "      <td>346</td>\n",
       "      <td>1</td>\n",
       "      <td>23</td>\n",
       "      <td>0</td>\n",
       "      <td>2</td>\n",
       "      <td>3</td>\n",
       "      <td>3</td>\n",
       "      <td>3</td>\n",
       "      <td>3</td>\n",
       "      <td>3</td>\n",
       "      <td>3</td>\n",
       "      <td>3</td>\n",
       "    </tr>\n",
       "  </tbody>\n",
       "</table>\n",
       "</div>"
      ],
      "text/plain": [
       "   Participant_ID  PHQ8_Binary  PHQ8_Score  Gender  PHQ8_NoInterest  \\\n",
       "0             302            0           4       1                1   \n",
       "1             307            0           4       0                0   \n",
       "2             331            0           8       1                1   \n",
       "3             335            1          12       0                1   \n",
       "4             346            1          23       0                2   \n",
       "\n",
       "   PHQ8_Depressed  PHQ8_Sleep  PHQ8_Tired  PHQ8_Appetite  PHQ8_Failure  \\\n",
       "0               1           0           1              0             1   \n",
       "1               1           0           1              0             2   \n",
       "2               1           1           1              1             1   \n",
       "3               1           3           2              3             1   \n",
       "4               3           3           3              3             3   \n",
       "\n",
       "   PHQ8_Concentrating  PHQ8_Moving  \n",
       "0                   0            0  \n",
       "1                   0            0  \n",
       "2                   1            1  \n",
       "3                   1            0  \n",
       "4                   3            3  "
      ]
     },
     "execution_count": 59,
     "metadata": {},
     "output_type": "execute_result"
    }
   ],
   "source": [
    "# Further Exploration using .head()\n",
    "df_dep.head()"
   ]
  },
  {
   "cell_type": "code",
   "execution_count": 60,
   "metadata": {
    "id": "rQuyJilXFppi",
    "outputId": "006e86d8-f511-4b29-c469-202ebf9accfe"
   },
   "outputs": [
    {
     "data": {
      "text/plain": [
       "(142, 12)"
      ]
     },
     "execution_count": 60,
     "metadata": {},
     "output_type": "execute_result"
    }
   ],
   "source": [
    "df_dep.shape"
   ]
  },
  {
   "cell_type": "code",
   "execution_count": 61,
   "metadata": {
    "id": "Mux1_yeEFppo",
    "outputId": "aff531e0-f669-4a20-e863-4ed34a79742f"
   },
   "outputs": [
    {
     "name": "stdout",
     "output_type": "stream",
     "text": [
      "Total number of Participant: 142\n",
      "Number of features: 11\n",
      "Graduation rate of the class: 29.58%\n"
     ]
    },
    {
     "data": {
      "text/plain": [
       "Text(0.5, 1.0, 'full dataset')"
      ]
     },
     "execution_count": 61,
     "metadata": {},
     "output_type": "execute_result"
    },
    {
     "data": {
      "image/png": "[encoded data removed]",
      "text/plain": [
       "<Figure size 432x288 with 1 Axes>"
      ]
     },
     "metadata": {
      "needs_background": "light"
     },
     "output_type": "display_data"
    }
   ],
   "source": [
    "# TODO: Calculate number of students\n",
    "n_Participant = df_dep.shape[0]\n",
    "\n",
    "# TODO: Calculate number of features\n",
    "n_features = df_dep.shape[1] - 1\n",
    "\n",
    "# TODO: Calculate passing students\n",
    "# Data filtering using .loc[rows, columns]\n",
    "depressed = df_dep.loc[df_dep.PHQ8_Binary == 1, 'PHQ8_Binary']\n",
    "n_depressed = depressed.shape[0]\n",
    "\n",
    "# TODO: Calculate failing students\n",
    "notdep = df_dep.loc[df_dep.PHQ8_Binary == 0, 'PHQ8_Binary']\n",
    "n_notdep = notdep.shape[0]\n",
    "\n",
    "#TODO: Calculate graduation rate\n",
    "total = float(n_depressed  + n_notdep )\n",
    "grad_rate = float(n_depressed * 100 / total)\n",
    "\n",
    "# Print the results\n",
    "print (\"Total number of Participant: {}\".format(n_Participant))\n",
    "print (\"Number of features: {}\".format(n_features))\n",
    "print (\"Graduation rate of the class: {:.2f}%\".format(grad_rate))\n",
    "\n",
    "models_initial4 = pd.DataFrame({\n",
    " 'feature' : [\"Total number of Participant\",\"Participant who is depress  \",\" Participant who is notdepress\"],\n",
    " 'number' : [n_Participant,n_depressed,n_notdep],}, columns = ['feature','number'])\n",
    "models_initial4.sort_values(by='number', ascending=False)\n",
    "\n",
    "ax = models_initial4.plot.bar(x='feature', y='number')\n",
    "plt.title(\"full dataset\", fontsize=10)"
   ]
  },
  {
   "cell_type": "code",
   "execution_count": 62,
   "metadata": {
    "id": "tTarfykCFppu",
    "outputId": "6698b4f1-6879-4deb-fee1-4bd38ca23772"
   },
   "outputs": [
    {
     "name": "stdout",
     "output_type": "stream",
     "text": [
      "Number of female: 79\n",
      "Number of male: 63\n",
      "Number of men who depressed: 24\n",
      "Number of Female who depressed: 18\n",
      "Number of men who NOTdepressed: 39\n",
      "Number of Female who NOTdepressed: 61\n"
     ]
    },
    {
     "data": {
      "text/plain": [
       "Text(0.5, 1.0, 'full dataset')"
      ]
     },
     "execution_count": 62,
     "metadata": {},
     "output_type": "execute_result"
    },
    {
     "data": {
      "image/png": "[encoded data removed]",
      "text/plain": [
       "<Figure size 432x288 with 1 Axes>"
      ]
     },
     "metadata": {
      "needs_background": "light"
     },
     "output_type": "display_data"
    }
   ],
   "source": [
    "genderF= df_dep.loc[df_dep.Gender==1,'Gender']\n",
    "gender1=genderF.shape[0]\n",
    "genderM=df_dep.loc[df_dep.Gender ==0,'Gender']\n",
    "gender0=genderM.shape[0]\n",
    "Men = df_dep.loc[((df_dep['PHQ8_Binary'] == 1) & (df_dep['Gender']==0))]\n",
    "M=Men.shape[0]\n",
    "FEMALE = df_dep.loc[(df_dep['PHQ8_Binary'] == 1) & (df_dep['Gender']==1)]\n",
    "F=FEMALE.shape[0]\n",
    "Men0 = df_dep.loc[((df_dep['PHQ8_Binary'] == 0) & (df_dep['Gender']==0))]\n",
    "M0=Men0.shape[0]\n",
    "FEMALE0 = df_dep.loc[(df_dep['PHQ8_Binary'] == 0) & (df_dep['Gender']==1)]\n",
    "F0=FEMALE0.shape[0]\n",
    "print (\"Number of female: {}\".format(gender1))\n",
    "print (\"Number of male: {}\".format(gender0))\n",
    "print (\"Number of men who depressed: {}\".format(M))\n",
    "print (\"Number of Female who depressed: {}\".format(F))\n",
    "print (\"Number of men who NOTdepressed: {}\".format(M0))\n",
    "print (\"Number of Female who NOTdepressed: {}\".format(F0))\n",
    "#df1['Gender'] = df2['PHQ8_Binary']\n",
    "\n",
    "#df1['mental'] = np.where(df2['PHQ8_Binary'] == 1, 'depressed', 'not depressed')  #create new column in df1\n",
    "models_initial5 = pd.DataFrame({\n",
    " 'feature' : [\" female\",\" male \",\" depressed Men \",\"depressed Female \"\n",
    "              ,\"  NOT depressed Men\",\" NOT depressed Female\"],\n",
    " 'amount' : [gender1,gender0,M,F,M0,F0],}, columns = ['feature','amount'])\n",
    "models_initial5.sort_values(by='amount', ascending=False)\n",
    "ax = models_initial5.plot.bar(x='feature', y='amount')\n",
    "plt.title(\"full dataset\", fontsize=10)"
   ]
  },
  {
   "cell_type": "code",
   "execution_count": null,
   "metadata": {
    "id": "EjFhZ7MGFppz"
   },
   "outputs": [],
   "source": []
  },
  {
   "cell_type": "code",
   "execution_count": 63,
   "metadata": {
    "id": "6f7Vo7huFpp7",
    "outputId": "580d0ad4-d7be-42b5-b479-b6b20f610fa3"
   },
   "outputs": [
    {
     "name": "stdout",
     "output_type": "stream",
     "text": [
      "Number of female: 16\n",
      "Number of male: 19\n",
      "Number of men who depressed: 7\n",
      "Number of Female who depressed: 5\n",
      "Number of men who NOTdepressed: 12\n",
      "Number of Female who NOTdepressed: 11\n"
     ]
    },
    {
     "data": {
      "text/plain": [
       "Text(0.5, 1.0, 'development dataset ')"
      ]
     },
     "execution_count": 63,
     "metadata": {},
     "output_type": "execute_result"
    },
    {
     "data": {
      "image/png": "[encoded data removed]",
      "text/plain": [
       "<Figure size 432x288 with 1 Axes>"
      ]
     },
     "metadata": {
      "needs_background": "light"
     },
     "output_type": "display_data"
    }
   ],
   "source": [
    "genderFdev= dev_dep.loc[dev_dep.Gender==1,'Gender']\n",
    "gender1dev=genderFdev.shape[0]\n",
    "genderMdev=dev_dep.loc[dev_dep.Gender ==0,'Gender']\n",
    "gender0dev=genderMdev.shape[0]\n",
    "Mendev = dev_dep.loc[((dev_dep['PHQ8_Binary'] == 1) & (dev_dep['Gender']==0))]\n",
    "Mdev=Mendev.shape[0]\n",
    "FEMALEdev = dev_dep.loc[(dev_dep['PHQ8_Binary'] == 1) & (dev_dep['Gender']==1)]\n",
    "Fdev=FEMALEdev.shape[0]\n",
    "Men0dev = dev_dep.loc[((dev_dep['PHQ8_Binary'] == 0) & (dev_dep['Gender']==0))]\n",
    "M0dev=Men0dev.shape[0]\n",
    "FEMALE0dev = dev_dep.loc[(dev_dep['PHQ8_Binary'] == 0) & (dev_dep['Gender']==1)]\n",
    "F0dev=FEMALE0dev.shape[0]\n",
    "print (\"Number of female: {}\".format(gender1dev))\n",
    "print (\"Number of male: {}\".format(gender0dev))\n",
    "print (\"Number of men who depressed: {}\".format(Mdev))\n",
    "print (\"Number of Female who depressed: {}\".format(Fdev))\n",
    "print (\"Number of men who NOTdepressed: {}\".format(M0dev))\n",
    "print (\"Number of Female who NOTdepressed: {}\".format(F0dev))\n",
    "#df1['Gender'] = df2['PHQ8_Binary']\n",
    "\n",
    "#df1['mental'] = np.where(df2['PHQ8_Binary'] == 1, 'depressed', 'not depressed')  #create new column in df1\n",
    "models_initial5Dev = pd.DataFrame({\n",
    " 'feature' : [\" female\",\" male \",\" depressed Men \",\"depressed Female \"\n",
    "              ,\"  NOT depressed Men\",\" NOT depressed Female\"],\n",
    " 'amount' : [gender1dev,gender0dev,Mdev,Fdev,M0dev,F0dev],}, columns = ['feature','amount'])\n",
    "models_initial5Dev.sort_values(by='amount', ascending=False)\n",
    "ax = models_initial5Dev.plot.bar(x='feature', y='amount')\n",
    "plt.title(\"development dataset \", fontsize=10)\n"
   ]
  },
  {
   "cell_type": "code",
   "execution_count": 64,
   "metadata": {
    "id": "Sv0-Gs8NFpp_",
    "outputId": "2ed6cbf1-b228-4b6d-8340-42ead6b9ba85"
   },
   "outputs": [
    {
     "name": "stdout",
     "output_type": "stream",
     "text": [
      "Number of female: 63\n",
      "Number of male: 44\n",
      "Number of men who depressed: 17\n",
      "Number of Female who depressed: 13\n",
      "Number of men who NOTdepressed: 27\n",
      "Number of Female who NOTdepressed: 50\n"
     ]
    },
    {
     "data": {
      "text/plain": [
       "Text(0.5, 1.0, 'train dataset ')"
      ]
     },
     "execution_count": 64,
     "metadata": {},
     "output_type": "execute_result"
    },
    {
     "data": {
      "image/png": "[encoded data removed]",
      "text/plain": [
       "<Figure size 432x288 with 1 Axes>"
      ]
     },
     "metadata": {
      "needs_background": "light"
     },
     "output_type": "display_data"
    }
   ],
   "source": [
    "genderFtrain= train_dep.loc[train_dep.Gender==1,'Gender']\n",
    "gender1train=genderFtrain.shape[0]\n",
    "genderMtrain=train_dep.loc[train_dep.Gender ==0,'Gender']\n",
    "gender0train=genderMtrain.shape[0]\n",
    "Mentrain= train_dep.loc[((train_dep['PHQ8_Binary'] == 1) & (train_dep['Gender']==0))]\n",
    "Mtrain=Mentrain.shape[0]\n",
    "FEMALEtrain = train_dep.loc[(train_dep['PHQ8_Binary'] == 1) & (train_dep['Gender']==1)]\n",
    "Ftrain=FEMALEtrain.shape[0]\n",
    "Men0train = train_dep.loc[((train_dep['PHQ8_Binary'] == 0) & (train_dep['Gender']==0))]\n",
    "M0train=Men0train.shape[0]\n",
    "FEMALE0train = train_dep.loc[(train_dep['PHQ8_Binary'] == 0) & (train_dep['Gender']==1)]\n",
    "F0train=FEMALE0train.shape[0]\n",
    "print (\"Number of female: {}\".format(gender1train))\n",
    "print (\"Number of male: {}\".format(gender0train))\n",
    "print (\"Number of men who depressed: {}\".format(Mtrain))\n",
    "print (\"Number of Female who depressed: {}\".format(Ftrain))\n",
    "print (\"Number of men who NOTdepressed: {}\".format(M0train))\n",
    "print (\"Number of Female who NOTdepressed: {}\".format(F0train))\n",
    "#df1['Gender'] = df2['PHQ8_Binary']\n",
    "\n",
    "#df1['mental'] = np.where(df2['PHQ8_Binary'] == 1, 'depressed', 'not depressed')  #create new column in df1\n",
    "models_initial5train = pd.DataFrame({\n",
    " 'feature' : [\" female\",\" male \",\" depressed Men \",\"depressed Female \"\n",
    "              ,\"  NOT depressed male\",\" NOT depressed Female\"],\n",
    " 'amount' : [gender1train,gender0train,Mtrain,Ftrain,M0train,F0train],}, columns = ['feature','amount'])\n",
    "models_initial5train.sort_values(by='amount', ascending=False)\n",
    "ax = models_initial5train.plot.bar(x='feature', y='amount',align='center')\n",
    "plt.title(\"train dataset \", fontsize=10)"
   ]
  },
  {
   "cell_type": "code",
   "execution_count": null,
   "metadata": {
    "id": "esUUdcTBFpqD"
   },
   "outputs": [],
   "source": []
  },
  {
   "cell_type": "code",
   "execution_count": null,
   "metadata": {
    "id": "1JujQKcmFpqJ"
   },
   "outputs": [],
   "source": []
  },
  {
   "cell_type": "code",
   "execution_count": null,
   "metadata": {
    "id": "CA-jSDmjFpqN"
   },
   "outputs": [],
   "source": []
  },
  {
   "cell_type": "code",
   "execution_count": null,
   "metadata": {
    "id": "PPWbdvKBFpqR"
   },
   "outputs": [],
   "source": []
  },
  {
   "cell_type": "code",
   "execution_count": 66,
   "metadata": {
    "id": "i-DggPhUFpqU"
   },
   "outputs": [],
   "source": [
    "#df_dep.columns"
   ]
  },
  {
   "cell_type": "code",
   "execution_count": 67,
   "metadata": {
    "id": "VR8Y58mZFpqW",
    "scrolled": true
   },
   "outputs": [],
   "source": [
    "#df_dep.iloc[:,[1]]\n",
    "#array = df_dep.values\n",
    "#TA = array[:,1]\n",
    "#df_dep.columns.values[1]"
   ]
  },
  {
   "cell_type": "code",
   "execution_count": 68,
   "metadata": {
    "id": "OOz_jfLXFpqY"
   },
   "outputs": [],
   "source": [
    "#df_dep.loc[:, dev_dep.columns != 'PHQ8_Binary']"
   ]
  },
  {
   "cell_type": "code",
   "execution_count": null,
   "metadata": {
    "id": "Mk0BdUgZFpqa"
   },
   "outputs": [],
   "source": []
  },
  {
   "cell_type": "code",
   "execution_count": 69,
   "metadata": {
    "id": "bcnWe9CMFpqd",
    "outputId": "f5672065-4411-46a4-9b44-2cbbb5951802",
    "scrolled": true
   },
   "outputs": [
    {
     "name": "stdout",
     "output_type": "stream",
     "text": [
      "Feature columns:\n",
      "['Participant_ID', 'PHQ8_Score', 'Gender', 'PHQ8_NoInterest', 'PHQ8_Depressed', 'PHQ8_Sleep', 'PHQ8_Tired', 'PHQ8_Appetite', 'PHQ8_Failure', 'PHQ8_Concentrating', 'PHQ8_Moving']\n",
      "\n",
      "Target column: PHQ8_Binary\n"
     ]
    }
   ],
   "source": [
    "#Extract feature columns\n",
    "# As seen above, we're getting all the columns except \"passed\" here but we're converting it to a list\n",
    "feature_cols = list(df_dep.loc[:, df_dep.columns != 'PHQ8_Binary'])\n",
    "#A=df_dep.loc[df_dep.PHQ8_Binary == 1, 'PHQ8_Binary'].values\n",
    "target_col = df_dep.columns.values[1]\n",
    "# Show the list of columns\n",
    "print (\"Feature columns:\\n{}\".format(feature_cols))\n",
    "print (\"\\nTarget column: {}\".format(target_col))\n",
    "\n",
    "# Separate the data into feature data and target data (X_all and y_all, respectively)\n",
    "X_all = df_dep[feature_cols]\n",
    "y_all = df_dep[target_col]\n",
    "# Show the feature information by printing the first five rows\n",
    "#print (\"\\nFeature values:\")\n"
   ]
  },
  {
   "cell_type": "code",
   "execution_count": 65,
   "metadata": {
    "id": "vSKb7_p_FpqG",
    "outputId": "343ae434-ca67-4036-e686-6f5fab5b1870"
   },
   "outputs": [
    {
     "data": {
      "image/png": "[encoded data removed]",
      "text/plain": [
       "<Figure size 720x576 with 1 Axes>"
      ]
     },
     "metadata": {
      "needs_background": "light"
     },
     "output_type": "display_data"
    }
   ],
   "source": [
    "# Use Seaborn's context settings to make fonts larger.\n",
    "#import seaborn as sns\n",
    "#sns.set_context('talk')\n",
    "data1 = df_dep.Gender.replace(to_replace=[0, 1], value=['male','female'])\n",
    "data2 = train_dep.Gender.replace(to_replace=[0, 1], value=['male','female'])\n",
    "data3 = dev_dep.Gender.replace(to_replace=[0, 1], value=['male','female'])\n",
    "# Create a grouped bar chart, with job as the x-axis\n",
    "# and gender as the variable we're grouping on so there\n",
    "# are two bars per job.\n",
    "fig, ax = plt.subplots(figsize=(10,8))\n",
    "\n",
    "# Our x-axis. We basically just want a list\n",
    "# of numbers from zero with a value for each\n",
    "# of our jobs.\n",
    "o = np.arange(len(data1))\n",
    "p= np.arange(len(data2))\n",
    "Q = np.arange(len(data3))\n",
    "\n",
    "# Define bar width. We need this to offset the second bar.\n",
    "bar_width = 2\n",
    "\n",
    "b1 = ax.bar(data1,o, width=bar_width, label='total')\n",
    "# Same thing, but offet the x.\n",
    "b2 = ax.bar(data2,p, width=bar_width, label='train')\n",
    "b3 = ax.bar(data3,Q, width=bar_width,label='dev')\n",
    "# Define bar width. We need this to offset the second bar.\n",
    "bar_width = 10\n",
    "\n",
    "# Fix the x-axes.\n",
    "ax.set_xticks(o + bar_width / 2)\n",
    "ax.set_xticks(p + bar_width / 2)\n",
    "ax.set_xticks(Q + bar_width / 2)\n",
    "\n",
    "\n",
    "# Add legend.\n",
    "ax.legend()\n",
    "\n",
    "# Axis styling.\n",
    "ax.spines['top'].set_visible(False)\n",
    "ax.spines['right'].set_visible(False)\n",
    "ax.spines['left'].set_visible(False)\n",
    "ax.spines['bottom'].set_color('#DDDDDD')\n",
    "ax.tick_params(bottom=False, left=False)\n",
    "ax.set_axisbelow(True)\n",
    "ax.yaxis.grid(True, color='#EEEEEE')\n",
    "ax.xaxis.grid(False)\n",
    "\n",
    "# Add axis and chart labels.\n",
    "ax.set_xlabel('Gender', labelpad=15)\n",
    "ax.set_ylabel('PHQ8_Binary', labelpad=15)\n",
    "ax.set_title(' number of participat on datasets  ', pad=15)\n",
    "\n",
    "fig.tight_layout()"
   ]
  },
  {
   "cell_type": "code",
   "execution_count": null,
   "metadata": {
    "id": "sSwfAY30Fpqg"
   },
   "outputs": [],
   "source": []
  },
  {
   "cell_type": "code",
   "execution_count": 70,
   "metadata": {
    "id": "gVQwohohFpqh",
    "outputId": "e2045d63-c9af-4810-8298-651c7d743cbc"
   },
   "outputs": [
    {
     "name": "stdout",
     "output_type": "stream",
     "text": [
      "Processed feature columns (11 total features):\n",
      "['Participant_ID', 'PHQ8_Score', 'Gender', 'PHQ8_NoInterest', 'PHQ8_Depressed', 'PHQ8_Sleep', 'PHQ8_Tired', 'PHQ8_Appetite', 'PHQ8_Failure', 'PHQ8_Concentrating', 'PHQ8_Moving']\n"
     ]
    }
   ],
   "source": [
    "def preprocess_features(X):\n",
    "    ''' Preprocesses the student data and converts non-numeric binary variables into\n",
    "        binary (0/1) variables. Converts categorical variables into dummy variables. '''\n",
    "\n",
    "    # Initialize new output DataFrame\n",
    "    output = pd.DataFrame(index = X.index)\n",
    "\n",
    "    # Investigate each feature column for the data\n",
    "    for col, col_data in X.iteritems():\n",
    "\n",
    "        # If data type is non-numeric, replace all yes/no values with 1/0\n",
    "      #  if col_data.dtype == object:\n",
    "           # col_data = col_data.replace(['yes', 'no'], [1, 0])\n",
    "\n",
    "        # If data type is categorical, convert to dummy variables\n",
    "        if col_data.dtype == object:\n",
    "            # Example: 'school' => 'school_GP' and 'school_MS'\n",
    "            col_data = pd.get_dummies(col_data, prefix = col)\n",
    "\n",
    "        # Collect the revised columns\n",
    "        output = output.join(col_data)\n",
    "\n",
    "    return output\n",
    "\n",
    "X_all1 = preprocess_features(X_all)\n",
    "print (\"Processed feature columns ({} total features):\\n{}\".format(len(X_all1.columns), list(X_all1.columns)))"
   ]
  },
  {
   "cell_type": "code",
   "execution_count": null,
   "metadata": {
    "id": "teUiRSW-Fpqk"
   },
   "outputs": [],
   "source": []
  },
  {
   "cell_type": "code",
   "execution_count": 71,
   "metadata": {
    "id": "H2dIFfYLFpqn",
    "outputId": "7c52db39-fba8-4185-9a85-d644b07beffc"
   },
   "outputs": [
    {
     "name": "stdout",
     "output_type": "stream",
     "text": [
      "Training set has 99 samples.\n",
      "Testing set has 43 samples.\n"
     ]
    }
   ],
   "source": [
    "# For initial train/test split, we can obtain stratification by simply using stratify = y_all:\n",
    "X_train, X_test, y_train, y_test = train_test_split(X_all, y_all, stratify = y_all, test_size=0.3, random_state=0)\n",
    "\n",
    "# Show the results of the split\n",
    "print (\"Training set has {} samples.\".format(X_train.shape[0]))\n",
    "print (\"Testing set has {} samples.\".format(X_test.shape[0]))"
   ]
  },
  {
   "cell_type": "code",
   "execution_count": null,
   "metadata": {
    "id": "pTK11bktFpqp"
   },
   "outputs": [],
   "source": []
  },
  {
   "cell_type": "code",
   "execution_count": 72,
   "metadata": {
    "id": "semIiiLHFpqs",
    "outputId": "1afd4663-c8dc-4188-8d99-17b58b2d8c85"
   },
   "outputs": [
    {
     "name": "stdout",
     "output_type": "stream",
     "text": [
      "0.7070707070707071\n",
      "0.6976744186046512\n"
     ]
    }
   ],
   "source": [
    "# To double check stratification\n",
    "print (np.mean(y_train == 0))\n",
    "print (np.mean(y_test == 0))"
   ]
  },
  {
   "cell_type": "code",
   "execution_count": 73,
   "metadata": {
    "id": "TER0yKXTFpqu"
   },
   "outputs": [],
   "source": [
    "def train_classifier(clf, X_train, y_train):\n",
    "    ''' Fits a classifier to the training data. '''\n",
    "\n",
    "    # Start the clock, train the classifier, then stop the clock\n",
    "    start = time()\n",
    "    clf.fit(X_train, y_train)\n",
    "    end = time()\n",
    "\n",
    "    # Print the results\n",
    "    print (\"Trained model in {:.4f} seconds\".format(end - start))\n",
    "\n",
    "\n",
    "def predict_labels(clf, features, target):\n",
    "    ''' Makes predictions using a fit classifier based on F1 score. '''\n",
    "\n",
    "    # Start the clock, make predictions, then stop the clock\n",
    "    start = time()\n",
    "    y_pred = clf.predict(features)\n",
    "    end = time()\n",
    "\n",
    "    # Print and return results\n",
    "    print (\"Made predictions in {:.4f} seconds.\".format(end - start))\n",
    "    return f1_score(target.values, y_pred, pos_label=1)\n",
    "\n",
    "\n",
    "def train_predict(clf, X_train, y_train, X_test, y_test):\n",
    "    ''' Train and predict using a classifer based on F1 score. '''\n",
    "\n",
    "    # Indicate the classifier and the training set size\n",
    "    print (\"\")\n",
    "    print (\"Training a {} using a training set size of {}. . .\".format(clf.__class__.__name__, len(X_train)))\n",
    "\n",
    "    # Train the classifier\n",
    "    train_classifier(clf, X_train, y_train)\n",
    "\n",
    "    # Print the results of prediction for both training and testing\n",
    "    print (\"F1 score for training set: {:.4f}.\".format(predict_labels(clf, X_train, y_train)))\n",
    "    print (\"F1 score for test set: {:.4f}.\".format(predict_labels(clf, X_test, y_test)))\n",
    "    "
   ]
  },
  {
   "cell_type": "code",
   "execution_count": 74,
   "metadata": {
    "id": "k8XEpYuiFpqw",
    "outputId": "9b890a02-885a-424f-b3be-d0b024342a8f"
   },
   "outputs": [
    {
     "ename": "TypeError",
     "evalue": "'module' object is not callable",
     "output_type": "error",
     "traceback": [
      "\u001b[1;31m---------------------------------------------------------------------------\u001b[0m",
      "\u001b[1;31mTypeError\u001b[0m                                 Traceback (most recent call last)",
      "\u001b[1;32m<ipython-input-74-0ee64c6a237f>\u001b[0m in \u001b[0;36m<module>\u001b[1;34m\u001b[0m\n\u001b[1;32m----> 1\u001b[1;33m \u001b[0mstart\u001b[0m \u001b[1;33m=\u001b[0m \u001b[0mtime\u001b[0m\u001b[1;33m(\u001b[0m\u001b[1;33m)\u001b[0m\u001b[1;33m\u001b[0m\u001b[1;33m\u001b[0m\u001b[0m\n\u001b[0m\u001b[0;32m      2\u001b[0m \u001b[0my_pred\u001b[0m \u001b[1;33m=\u001b[0m \u001b[0mclf\u001b[0m\u001b[1;33m.\u001b[0m\u001b[0mpredict\u001b[0m\u001b[1;33m(\u001b[0m\u001b[0mfeatures\u001b[0m\u001b[1;33m)\u001b[0m\u001b[1;33m\u001b[0m\u001b[1;33m\u001b[0m\u001b[0m\n\u001b[0;32m      3\u001b[0m \u001b[0mend\u001b[0m \u001b[1;33m=\u001b[0m \u001b[0mtime\u001b[0m\u001b[1;33m(\u001b[0m\u001b[1;33m)\u001b[0m\u001b[1;33m\u001b[0m\u001b[1;33m\u001b[0m\u001b[0m\n\u001b[0;32m      4\u001b[0m \u001b[0mclf_A\u001b[0m \u001b[1;33m=\u001b[0m \u001b[0mGaussianNB\u001b[0m\u001b[1;33m(\u001b[0m\u001b[1;33m)\u001b[0m\u001b[1;33m\u001b[0m\u001b[1;33m\u001b[0m\u001b[0m\n\u001b[0;32m      5\u001b[0m \u001b[0mclf_B\u001b[0m \u001b[1;33m=\u001b[0m \u001b[0mLogisticRegression\u001b[0m\u001b[1;33m(\u001b[0m\u001b[0mrandom_state\u001b[0m\u001b[1;33m=\u001b[0m\u001b[1;36m42\u001b[0m\u001b[1;33m)\u001b[0m\u001b[1;33m\u001b[0m\u001b[1;33m\u001b[0m\u001b[0m\n",
      "\u001b[1;31mTypeError\u001b[0m: 'module' object is not callable"
     ]
    }
   ],
   "source": [
    "start = time()\n",
    "y_pred = clf.predict(features)\n",
    "end = time()\n",
    "clf_A = GaussianNB()\n",
    "clf_B = LogisticRegression(random_state=42)\n",
    "clf_C = SVC(random_state=42)\n",
    "\n",
    "# TODO: Set up the training set sizes\n",
    "X_train_100 = X_train.iloc[:30,:]\n",
    "y_train_100 = y_train.iloc[:30]\n",
    "\n",
    "X_train_200 = X_train.iloc[:50, :]\n",
    "y_train_200 = y_train.iloc[:50]\n",
    "\n",
    "X_train_300 = X_train.iloc[:90, :]\n",
    "y_train_300 = y_train.iloc[:90]\n",
    "\n",
    "# TODO: Execute the 'train_predict' function for each classifier and each training set size\n",
    "# train_predict(clf, X_train, y_train, X_test, y_test)\n",
    "\n",
    "for clf in [clf_A, clf_B, clf_C]:\n",
    "    print (\"\\n{}: \\n\".format(clf.__class__.__name__))\n",
    "    for n in [30, 50, 90]:\n",
    "        train_predict(clf, X_train[:n], y_train[:n], X_test, y_test)"
   ]
  },
  {
   "cell_type": "code",
   "execution_count": 75,
   "metadata": {
    "id": "Iflaat1qFpqz",
    "outputId": "6eac34ae-4aff-41d4-dced-90c0250ea5ee"
   },
   "outputs": [
    {
     "name": "stdout",
     "output_type": "stream",
     "text": [
      "random forest:\n",
      "              precision    recall  f1-score   support\n",
      "\n",
      "           0       1.00      0.97      0.98        30\n",
      "           1       0.93      1.00      0.96        13\n",
      "\n",
      "    accuracy                           0.98        43\n",
      "   macro avg       0.96      0.98      0.97        43\n",
      "weighted avg       0.98      0.98      0.98        43\n",
      "\n",
      "LogisticRegression:\n",
      "              precision    recall  f1-score   support\n",
      "\n",
      "           0       0.97      0.93      0.95        30\n",
      "           1       0.86      0.92      0.89        13\n",
      "\n",
      "    accuracy                           0.93        43\n",
      "   macro avg       0.91      0.93      0.92        43\n",
      "weighted avg       0.93      0.93      0.93        43\n",
      "\n",
      "DecisionTreeClassifier:\n",
      "              precision    recall  f1-score   support\n",
      "\n",
      "           0       1.00      0.97      0.98        30\n",
      "           1       0.93      1.00      0.96        13\n",
      "\n",
      "    accuracy                           0.98        43\n",
      "   macro avg       0.96      0.98      0.97        43\n",
      "weighted avg       0.98      0.98      0.98        43\n",
      "\n",
      "KNeighborsClassifier:\n",
      "              precision    recall  f1-score   support\n",
      "\n",
      "           0       1.00      0.97      0.98        30\n",
      "           1       0.93      1.00      0.96        13\n",
      "\n",
      "    accuracy                           0.98        43\n",
      "   macro avg       0.96      0.98      0.97        43\n",
      "weighted avg       0.98      0.98      0.98        43\n",
      "\n"
     ]
    },
    {
     "name": "stderr",
     "output_type": "stream",
     "text": [
      "C:\\ProgramData\\Anaconda3\\lib\\site-packages\\sklearn\\linear_model\\_logistic.py:762: ConvergenceWarning: lbfgs failed to converge (status=1):\n",
      "STOP: TOTAL NO. of ITERATIONS REACHED LIMIT.\n",
      "\n",
      "Increase the number of iterations (max_iter) or scale the data as shown in:\n",
      "    https://scikit-learn.org/stable/modules/preprocessing.html\n",
      "Please also refer to the documentation for alternative solver options:\n",
      "    https://scikit-learn.org/stable/modules/linear_model.html#logistic-regression\n",
      "  n_iter_i = _check_optimize_result(\n"
     ]
    }
   ],
   "source": [
    "rfR = RandomForestClassifier(random_state=0)\n",
    "rfR.fit(X_train, y_train)\n",
    "y_predR = rfR.predict(X_test)\n",
    "print(\"random forest:\")\n",
    "print(classification_report(y_test, y_predR))\n",
    "print(\"LogisticRegression:\")\n",
    "rfL = LogisticRegression(random_state=0)\n",
    "rfL.fit(X_train, y_train)\n",
    "y_predL = rfL.predict(X_test)\n",
    "print(classification_report(y_test, y_predL))\n",
    "print(\"DecisionTreeClassifier:\")\n",
    "rfD = DecisionTreeClassifier(random_state=0)\n",
    "rfD.fit(X_train, y_train)\n",
    "y_predD = rfD.predict(X_test)\n",
    "print(classification_report(y_test, y_predD))\n",
    "print(\"KNeighborsClassifier:\")\n",
    "rfknn = KNeighborsClassifier()\n",
    "rfknn.fit(X_train, y_train)\n",
    "y_predknn = rfknn.predict(X_test)\n",
    "print(classification_report(y_test, y_predD))"
   ]
  },
  {
   "cell_type": "code",
   "execution_count": 76,
   "metadata": {
    "id": "EsudGXblFpq0",
    "outputId": "d680be45-58c8-458b-b695-05d220df79a4"
   },
   "outputs": [
    {
     "name": "stderr",
     "output_type": "stream",
     "text": [
      "C:\\ProgramData\\Anaconda3\\lib\\site-packages\\sklearn\\linear_model\\_logistic.py:762: ConvergenceWarning: lbfgs failed to converge (status=1):\n",
      "STOP: TOTAL NO. of ITERATIONS REACHED LIMIT.\n",
      "\n",
      "Increase the number of iterations (max_iter) or scale the data as shown in:\n",
      "    https://scikit-learn.org/stable/modules/preprocessing.html\n",
      "Please also refer to the documentation for alternative solver options:\n",
      "    https://scikit-learn.org/stable/modules/linear_model.html#logistic-regression\n",
      "  n_iter_i = _check_optimize_result(\n",
      "C:\\ProgramData\\Anaconda3\\lib\\site-packages\\sklearn\\linear_model\\_logistic.py:762: ConvergenceWarning: lbfgs failed to converge (status=1):\n",
      "STOP: TOTAL NO. of ITERATIONS REACHED LIMIT.\n",
      "\n",
      "Increase the number of iterations (max_iter) or scale the data as shown in:\n",
      "    https://scikit-learn.org/stable/modules/preprocessing.html\n",
      "Please also refer to the documentation for alternative solver options:\n",
      "    https://scikit-learn.org/stable/modules/linear_model.html#logistic-regression\n",
      "  n_iter_i = _check_optimize_result(\n",
      "C:\\ProgramData\\Anaconda3\\lib\\site-packages\\sklearn\\linear_model\\_logistic.py:762: ConvergenceWarning: lbfgs failed to converge (status=1):\n",
      "STOP: TOTAL NO. of ITERATIONS REACHED LIMIT.\n",
      "\n",
      "Increase the number of iterations (max_iter) or scale the data as shown in:\n",
      "    https://scikit-learn.org/stable/modules/preprocessing.html\n",
      "Please also refer to the documentation for alternative solver options:\n",
      "    https://scikit-learn.org/stable/modules/linear_model.html#logistic-regression\n",
      "  n_iter_i = _check_optimize_result(\n",
      "C:\\ProgramData\\Anaconda3\\lib\\site-packages\\sklearn\\linear_model\\_logistic.py:762: ConvergenceWarning: lbfgs failed to converge (status=1):\n",
      "STOP: TOTAL NO. of ITERATIONS REACHED LIMIT.\n",
      "\n",
      "Increase the number of iterations (max_iter) or scale the data as shown in:\n",
      "    https://scikit-learn.org/stable/modules/preprocessing.html\n",
      "Please also refer to the documentation for alternative solver options:\n",
      "    https://scikit-learn.org/stable/modules/linear_model.html#logistic-regression\n",
      "  n_iter_i = _check_optimize_result(\n",
      "C:\\ProgramData\\Anaconda3\\lib\\site-packages\\sklearn\\linear_model\\_logistic.py:762: ConvergenceWarning: lbfgs failed to converge (status=1):\n",
      "STOP: TOTAL NO. of ITERATIONS REACHED LIMIT.\n",
      "\n",
      "Increase the number of iterations (max_iter) or scale the data as shown in:\n",
      "    https://scikit-learn.org/stable/modules/preprocessing.html\n",
      "Please also refer to the documentation for alternative solver options:\n",
      "    https://scikit-learn.org/stable/modules/linear_model.html#logistic-regression\n",
      "  n_iter_i = _check_optimize_result(\n",
      "C:\\ProgramData\\Anaconda3\\lib\\site-packages\\sklearn\\linear_model\\_logistic.py:762: ConvergenceWarning: lbfgs failed to converge (status=1):\n",
      "STOP: TOTAL NO. of ITERATIONS REACHED LIMIT.\n",
      "\n",
      "Increase the number of iterations (max_iter) or scale the data as shown in:\n",
      "    https://scikit-learn.org/stable/modules/preprocessing.html\n",
      "Please also refer to the documentation for alternative solver options:\n",
      "    https://scikit-learn.org/stable/modules/linear_model.html#logistic-regression\n",
      "  n_iter_i = _check_optimize_result(\n",
      "C:\\ProgramData\\Anaconda3\\lib\\site-packages\\sklearn\\linear_model\\_logistic.py:762: ConvergenceWarning: lbfgs failed to converge (status=1):\n",
      "STOP: TOTAL NO. of ITERATIONS REACHED LIMIT.\n",
      "\n",
      "Increase the number of iterations (max_iter) or scale the data as shown in:\n",
      "    https://scikit-learn.org/stable/modules/preprocessing.html\n",
      "Please also refer to the documentation for alternative solver options:\n",
      "    https://scikit-learn.org/stable/modules/linear_model.html#logistic-regression\n",
      "  n_iter_i = _check_optimize_result(\n",
      "C:\\ProgramData\\Anaconda3\\lib\\site-packages\\sklearn\\linear_model\\_logistic.py:762: ConvergenceWarning: lbfgs failed to converge (status=1):\n",
      "STOP: TOTAL NO. of ITERATIONS REACHED LIMIT.\n",
      "\n",
      "Increase the number of iterations (max_iter) or scale the data as shown in:\n",
      "    https://scikit-learn.org/stable/modules/preprocessing.html\n",
      "Please also refer to the documentation for alternative solver options:\n",
      "    https://scikit-learn.org/stable/modules/linear_model.html#logistic-regression\n",
      "  n_iter_i = _check_optimize_result(\n",
      "C:\\ProgramData\\Anaconda3\\lib\\site-packages\\sklearn\\linear_model\\_logistic.py:762: ConvergenceWarning: lbfgs failed to converge (status=1):\n",
      "STOP: TOTAL NO. of ITERATIONS REACHED LIMIT.\n",
      "\n",
      "Increase the number of iterations (max_iter) or scale the data as shown in:\n",
      "    https://scikit-learn.org/stable/modules/preprocessing.html\n",
      "Please also refer to the documentation for alternative solver options:\n",
      "    https://scikit-learn.org/stable/modules/linear_model.html#logistic-regression\n",
      "  n_iter_i = _check_optimize_result(\n",
      "C:\\ProgramData\\Anaconda3\\lib\\site-packages\\sklearn\\linear_model\\_logistic.py:762: ConvergenceWarning: lbfgs failed to converge (status=1):\n",
      "STOP: TOTAL NO. of ITERATIONS REACHED LIMIT.\n",
      "\n",
      "Increase the number of iterations (max_iter) or scale the data as shown in:\n",
      "    https://scikit-learn.org/stable/modules/preprocessing.html\n",
      "Please also refer to the documentation for alternative solver options:\n",
      "    https://scikit-learn.org/stable/modules/linear_model.html#logistic-regression\n",
      "  n_iter_i = _check_optimize_result(\n"
     ]
    }
   ],
   "source": [
    "LR = LogisticRegression()\n",
    "\n",
    "scoring = ['accuracy', 'precision_macro', 'recall_macro' , 'f1_weighted', 'roc_auc']\n",
    "scores = cross_validate(LR, X_train, y_train, scoring=scoring, cv=10)\n",
    "\n",
    "sorted(scores.keys())\n",
    "LR_fit_time = scores['fit_time'].mean()\n",
    "LR_score_time = scores['score_time'].mean()\n",
    "LR_accuracy = scores['test_accuracy'].mean()\n",
    "LR_precision = scores['test_precision_macro'].mean()\n",
    "LR_recall = scores['test_recall_macro'].mean()\n",
    "LR_f1 = scores['test_f1_weighted'].mean()\n",
    "LR_roc = scores['test_roc_auc'].mean()"
   ]
  },
  {
   "cell_type": "code",
   "execution_count": 77,
   "metadata": {
    "id": "zrnDwKmYFpq2"
   },
   "outputs": [],
   "source": [
    "decision_tree = DecisionTreeClassifier()\n",
    "\n",
    "scoring = ['accuracy', 'precision_macro', 'recall_macro' , 'f1_weighted', 'roc_auc']\n",
    "scores = cross_validate(decision_tree, X_train, y_train, scoring=scoring, cv=10)\n",
    "\n",
    "sorted(scores.keys())\n",
    "dtree_fit_time = scores['fit_time'].mean()\n",
    "dtree_score_time = scores['score_time'].mean()\n",
    "dtree_accuracy = scores['test_accuracy'].mean()\n",
    "dtree_precision = scores['test_precision_macro'].mean()\n",
    "dtree_recall = scores['test_recall_macro'].mean()\n",
    "dtree_f1 = scores['test_f1_weighted'].mean()\n",
    "dtree_roc = scores['test_roc_auc'].mean()"
   ]
  },
  {
   "cell_type": "code",
   "execution_count": 78,
   "metadata": {
    "id": "cZoqpr_1Fpq4",
    "outputId": "adc6c89e-34a4-4a6e-934c-2727495f7577"
   },
   "outputs": [
    {
     "name": "stderr",
     "output_type": "stream",
     "text": [
      "C:\\ProgramData\\Anaconda3\\lib\\site-packages\\sklearn\\metrics\\_classification.py:1221: UndefinedMetricWarning: Precision is ill-defined and being set to 0.0 in labels with no predicted samples. Use `zero_division` parameter to control this behavior.\n",
      "  _warn_prf(average, modifier, msg_start, len(result))\n",
      "C:\\ProgramData\\Anaconda3\\lib\\site-packages\\sklearn\\metrics\\_classification.py:1221: UndefinedMetricWarning: Precision is ill-defined and being set to 0.0 in labels with no predicted samples. Use `zero_division` parameter to control this behavior.\n",
      "  _warn_prf(average, modifier, msg_start, len(result))\n",
      "C:\\ProgramData\\Anaconda3\\lib\\site-packages\\sklearn\\metrics\\_classification.py:1221: UndefinedMetricWarning: Precision is ill-defined and being set to 0.0 in labels with no predicted samples. Use `zero_division` parameter to control this behavior.\n",
      "  _warn_prf(average, modifier, msg_start, len(result))\n",
      "C:\\ProgramData\\Anaconda3\\lib\\site-packages\\sklearn\\metrics\\_classification.py:1221: UndefinedMetricWarning: Precision is ill-defined and being set to 0.0 in labels with no predicted samples. Use `zero_division` parameter to control this behavior.\n",
      "  _warn_prf(average, modifier, msg_start, len(result))\n",
      "C:\\ProgramData\\Anaconda3\\lib\\site-packages\\sklearn\\metrics\\_classification.py:1221: UndefinedMetricWarning: Precision is ill-defined and being set to 0.0 in labels with no predicted samples. Use `zero_division` parameter to control this behavior.\n",
      "  _warn_prf(average, modifier, msg_start, len(result))\n",
      "C:\\ProgramData\\Anaconda3\\lib\\site-packages\\sklearn\\metrics\\_classification.py:1221: UndefinedMetricWarning: Precision is ill-defined and being set to 0.0 in labels with no predicted samples. Use `zero_division` parameter to control this behavior.\n",
      "  _warn_prf(average, modifier, msg_start, len(result))\n",
      "C:\\ProgramData\\Anaconda3\\lib\\site-packages\\sklearn\\metrics\\_classification.py:1221: UndefinedMetricWarning: Precision is ill-defined and being set to 0.0 in labels with no predicted samples. Use `zero_division` parameter to control this behavior.\n",
      "  _warn_prf(average, modifier, msg_start, len(result))\n",
      "C:\\ProgramData\\Anaconda3\\lib\\site-packages\\sklearn\\metrics\\_classification.py:1221: UndefinedMetricWarning: Precision is ill-defined and being set to 0.0 in labels with no predicted samples. Use `zero_division` parameter to control this behavior.\n",
      "  _warn_prf(average, modifier, msg_start, len(result))\n",
      "C:\\ProgramData\\Anaconda3\\lib\\site-packages\\sklearn\\metrics\\_classification.py:1221: UndefinedMetricWarning: Precision is ill-defined and being set to 0.0 in labels with no predicted samples. Use `zero_division` parameter to control this behavior.\n",
      "  _warn_prf(average, modifier, msg_start, len(result))\n",
      "C:\\ProgramData\\Anaconda3\\lib\\site-packages\\sklearn\\metrics\\_classification.py:1221: UndefinedMetricWarning: Precision is ill-defined and being set to 0.0 in labels with no predicted samples. Use `zero_division` parameter to control this behavior.\n",
      "  _warn_prf(average, modifier, msg_start, len(result))\n"
     ]
    }
   ],
   "source": [
    "SVM = SVC(probability = True)\n",
    "\n",
    "scoring = ['accuracy','precision_macro', 'recall_macro' , 'f1_weighted', 'roc_auc']\n",
    "scores = cross_validate(SVM, X_train, y_train, scoring=scoring, cv=10)\n",
    "\n",
    "sorted(scores.keys())\n",
    "SVM_fit_time = scores['fit_time'].mean()\n",
    "SVM_score_time = scores['score_time'].mean()\n",
    "SVM_accuracy = scores['test_accuracy'].mean()\n",
    "SVM_precision = scores['test_precision_macro'].mean()\n",
    "SVM_recall = scores['test_recall_macro'].mean()\n",
    "SVM_f1 = scores['test_f1_weighted'].mean()\n",
    "SVM_roc = scores['test_roc_auc'].mean()"
   ]
  },
  {
   "cell_type": "code",
   "execution_count": 79,
   "metadata": {
    "id": "Pt0vVKpVFpq7"
   },
   "outputs": [],
   "source": [
    "LDA = LinearDiscriminantAnalysis()\n",
    "\n",
    "scoring = ['accuracy', 'precision_macro', 'recall_macro' , 'f1_weighted', 'roc_auc']\n",
    "scores = cross_validate(LDA, X_train, y_train, scoring=scoring, cv=10)\n",
    "\n",
    "sorted(scores.keys())\n",
    "LDA_fit_time = scores['fit_time'].mean()\n",
    "LDA_score_time = scores['score_time'].mean()\n",
    "LDA_accuracy = scores['test_accuracy'].mean()\n",
    "LDA_precision = scores['test_precision_macro'].mean()\n",
    "LDA_recall = scores['test_recall_macro'].mean()\n",
    "LDA_f1 = scores['test_f1_weighted'].mean()\n",
    "LDA_roc = scores['test_roc_auc'].mean()"
   ]
  },
  {
   "cell_type": "code",
   "execution_count": 80,
   "metadata": {
    "id": "0gIxH_L4Fpq9",
    "outputId": "d6c017fc-08fb-486d-8cdd-c85faa422a78"
   },
   "outputs": [
    {
     "name": "stderr",
     "output_type": "stream",
     "text": [
      "C:\\ProgramData\\Anaconda3\\lib\\site-packages\\sklearn\\discriminant_analysis.py:715: UserWarning: Variables are collinear\n",
      "  warnings.warn(\"Variables are collinear\")\n",
      "C:\\ProgramData\\Anaconda3\\lib\\site-packages\\sklearn\\metrics\\_classification.py:1221: UndefinedMetricWarning: Precision is ill-defined and being set to 0.0 in labels with no predicted samples. Use `zero_division` parameter to control this behavior.\n",
      "  _warn_prf(average, modifier, msg_start, len(result))\n",
      "C:\\ProgramData\\Anaconda3\\lib\\site-packages\\sklearn\\discriminant_analysis.py:715: UserWarning: Variables are collinear\n",
      "  warnings.warn(\"Variables are collinear\")\n",
      "C:\\ProgramData\\Anaconda3\\lib\\site-packages\\sklearn\\discriminant_analysis.py:715: UserWarning: Variables are collinear\n",
      "  warnings.warn(\"Variables are collinear\")\n",
      "C:\\ProgramData\\Anaconda3\\lib\\site-packages\\sklearn\\discriminant_analysis.py:715: UserWarning: Variables are collinear\n",
      "  warnings.warn(\"Variables are collinear\")\n",
      "C:\\ProgramData\\Anaconda3\\lib\\site-packages\\sklearn\\metrics\\_classification.py:1221: UndefinedMetricWarning: Precision is ill-defined and being set to 0.0 in labels with no predicted samples. Use `zero_division` parameter to control this behavior.\n",
      "  _warn_prf(average, modifier, msg_start, len(result))\n",
      "C:\\ProgramData\\Anaconda3\\lib\\site-packages\\sklearn\\discriminant_analysis.py:715: UserWarning: Variables are collinear\n",
      "  warnings.warn(\"Variables are collinear\")\n",
      "C:\\ProgramData\\Anaconda3\\lib\\site-packages\\sklearn\\discriminant_analysis.py:715: UserWarning: Variables are collinear\n",
      "  warnings.warn(\"Variables are collinear\")\n",
      "C:\\ProgramData\\Anaconda3\\lib\\site-packages\\sklearn\\metrics\\_classification.py:1221: UndefinedMetricWarning: Precision is ill-defined and being set to 0.0 in labels with no predicted samples. Use `zero_division` parameter to control this behavior.\n",
      "  _warn_prf(average, modifier, msg_start, len(result))\n",
      "C:\\ProgramData\\Anaconda3\\lib\\site-packages\\sklearn\\discriminant_analysis.py:715: UserWarning: Variables are collinear\n",
      "  warnings.warn(\"Variables are collinear\")\n",
      "C:\\ProgramData\\Anaconda3\\lib\\site-packages\\sklearn\\metrics\\_classification.py:1221: UndefinedMetricWarning: Precision is ill-defined and being set to 0.0 in labels with no predicted samples. Use `zero_division` parameter to control this behavior.\n",
      "  _warn_prf(average, modifier, msg_start, len(result))\n",
      "C:\\ProgramData\\Anaconda3\\lib\\site-packages\\sklearn\\discriminant_analysis.py:715: UserWarning: Variables are collinear\n",
      "  warnings.warn(\"Variables are collinear\")\n",
      "C:\\ProgramData\\Anaconda3\\lib\\site-packages\\sklearn\\discriminant_analysis.py:715: UserWarning: Variables are collinear\n",
      "  warnings.warn(\"Variables are collinear\")\n",
      "C:\\ProgramData\\Anaconda3\\lib\\site-packages\\sklearn\\metrics\\_classification.py:1221: UndefinedMetricWarning: Precision is ill-defined and being set to 0.0 in labels with no predicted samples. Use `zero_division` parameter to control this behavior.\n",
      "  _warn_prf(average, modifier, msg_start, len(result))\n",
      "C:\\ProgramData\\Anaconda3\\lib\\site-packages\\sklearn\\discriminant_analysis.py:715: UserWarning: Variables are collinear\n",
      "  warnings.warn(\"Variables are collinear\")\n"
     ]
    }
   ],
   "source": [
    "QDA = QuadraticDiscriminantAnalysis()\n",
    "\n",
    "scoring = ['accuracy', 'precision_macro', 'recall_macro' , 'f1_weighted', 'roc_auc']\n",
    "scores = cross_validate(QDA, X_train, y_train, scoring=scoring, cv=10)\n",
    "\n",
    "sorted(scores.keys())\n",
    "QDA_fit_time = scores['fit_time'].mean()\n",
    "QDA_score_time = scores['score_time'].mean()\n",
    "QDA_accuracy = scores['test_accuracy'].mean()\n",
    "QDA_precision = scores['test_precision_macro'].mean()\n",
    "QDA_recall = scores['test_recall_macro'].mean()\n",
    "QDA_f1 = scores['test_f1_weighted'].mean()\n",
    "QDA_roc = scores['test_roc_auc'].mean()"
   ]
  },
  {
   "cell_type": "code",
   "execution_count": 81,
   "metadata": {
    "id": "BkxDfGzFFpq_"
   },
   "outputs": [],
   "source": [
    "random_forest = RandomForestClassifier()\n",
    "\n",
    "scoring = ['accuracy', 'precision_macro', 'recall_macro' , 'f1_weighted', 'roc_auc']\n",
    "scores = cross_validate(random_forest, X_train, y_train, scoring=scoring, cv=10)\n",
    "\n",
    "sorted(scores.keys())\n",
    "forest_fit_time = scores['fit_time'].mean()\n",
    "forest_score_time = scores['score_time'].mean()\n",
    "forest_accuracy = scores['test_accuracy'].mean()\n",
    "forest_precision = scores['test_precision_macro'].mean()\n",
    "forest_recall = scores['test_recall_macro'].mean()\n",
    "forest_f1 = scores['test_f1_weighted'].mean()\n",
    "forest_roc = scores['test_roc_auc'].mean()"
   ]
  },
  {
   "cell_type": "code",
   "execution_count": 82,
   "metadata": {
    "id": "yVi3tfMeFprC"
   },
   "outputs": [],
   "source": [
    "KNN = KNeighborsClassifier()\n",
    "\n",
    "scoring = ['accuracy', 'precision_macro', 'recall_macro' , 'f1_weighted', 'roc_auc']\n",
    "scores = cross_validate(KNN, X_train, y_train, scoring=scoring, cv=10)\n",
    "\n",
    "sorted(scores.keys())\n",
    "KNN_fit_time = scores['fit_time'].mean()\n",
    "KNN_score_time = scores['score_time'].mean()\n",
    "KNN_accuracy = scores['test_accuracy'].mean()\n",
    "KNN_precision = scores['test_precision_macro'].mean()\n",
    "KNN_recall = scores['test_recall_macro'].mean()\n",
    "KNN_f1 = scores['test_f1_weighted'].mean()\n",
    "KNN_roc = scores['test_roc_auc'].mean()"
   ]
  },
  {
   "cell_type": "code",
   "execution_count": 83,
   "metadata": {
    "id": "TZRkFET0FprF"
   },
   "outputs": [],
   "source": [
    "bayes = GaussianNB()\n",
    "\n",
    "scoring = ['accuracy', 'precision_macro', 'recall_macro' , 'f1_weighted', 'roc_auc']\n",
    "scores = cross_validate(bayes, X_train, y_train, scoring=scoring, cv=10)\n",
    "\n",
    "sorted(scores.keys())\n",
    "bayes_fit_time = scores['fit_time'].mean()\n",
    "bayes_score_time = scores['score_time'].mean()\n",
    "bayes_accuracy = scores['test_accuracy'].mean()\n",
    "bayes_precision = scores['test_precision_macro'].mean()\n",
    "bayes_recall = scores['test_recall_macro'].mean()\n",
    "bayes_f1 = scores['test_f1_weighted'].mean()\n",
    "bayes_roc = scores['test_roc_auc'].mean()"
   ]
  },
  {
   "cell_type": "code",
   "execution_count": 84,
   "metadata": {
    "id": "6q-tQG9TFprH",
    "outputId": "1e5ec296-19a0-405c-8fcb-1e91f03ffc0d",
    "scrolled": true
   },
   "outputs": [
    {
     "data": {
      "text/html": [
       "<div>\n",
       "<style scoped>\n",
       "    .dataframe tbody tr th:only-of-type {\n",
       "        vertical-align: middle;\n",
       "    }\n",
       "\n",
       "    .dataframe tbody tr th {\n",
       "        vertical-align: top;\n",
       "    }\n",
       "\n",
       "    .dataframe thead th {\n",
       "        text-align: right;\n",
       "    }\n",
       "</style>\n",
       "<table border=\"1\" class=\"dataframe\">\n",
       "  <thead>\n",
       "    <tr style=\"text-align: right;\">\n",
       "      <th></th>\n",
       "      <th>Model</th>\n",
       "      <th>Fitting time</th>\n",
       "      <th>Scoring time</th>\n",
       "      <th>Accuracy</th>\n",
       "      <th>Precision</th>\n",
       "      <th>Recall</th>\n",
       "      <th>F1_score</th>\n",
       "      <th>AUC_ROC</th>\n",
       "    </tr>\n",
       "  </thead>\n",
       "  <tbody>\n",
       "    <tr>\n",
       "      <th>1</th>\n",
       "      <td>Decision Tree</td>\n",
       "      <td>0.003672</td>\n",
       "      <td>0.013856</td>\n",
       "      <td>1.000000</td>\n",
       "      <td>1.000000</td>\n",
       "      <td>1.000000</td>\n",
       "      <td>1.000000</td>\n",
       "      <td>1.000000</td>\n",
       "    </tr>\n",
       "    <tr>\n",
       "      <th>5</th>\n",
       "      <td>Random Forest</td>\n",
       "      <td>0.275675</td>\n",
       "      <td>0.049667</td>\n",
       "      <td>1.000000</td>\n",
       "      <td>1.000000</td>\n",
       "      <td>1.000000</td>\n",
       "      <td>1.000000</td>\n",
       "      <td>1.000000</td>\n",
       "    </tr>\n",
       "    <tr>\n",
       "      <th>0</th>\n",
       "      <td>Logistic Regression</td>\n",
       "      <td>0.044536</td>\n",
       "      <td>0.013448</td>\n",
       "      <td>0.970000</td>\n",
       "      <td>0.975000</td>\n",
       "      <td>0.959524</td>\n",
       "      <td>0.968996</td>\n",
       "      <td>0.995238</td>\n",
       "    </tr>\n",
       "    <tr>\n",
       "      <th>7</th>\n",
       "      <td>Bayes</td>\n",
       "      <td>0.010169</td>\n",
       "      <td>0.022555</td>\n",
       "      <td>0.940000</td>\n",
       "      <td>0.930000</td>\n",
       "      <td>0.957143</td>\n",
       "      <td>0.942152</td>\n",
       "      <td>1.000000</td>\n",
       "    </tr>\n",
       "    <tr>\n",
       "      <th>3</th>\n",
       "      <td>Linear Discriminant Analysis</td>\n",
       "      <td>0.005883</td>\n",
       "      <td>0.018000</td>\n",
       "      <td>0.938889</td>\n",
       "      <td>0.963889</td>\n",
       "      <td>0.891667</td>\n",
       "      <td>0.931657</td>\n",
       "      <td>0.980952</td>\n",
       "    </tr>\n",
       "    <tr>\n",
       "      <th>6</th>\n",
       "      <td>K-Nearest Neighbors</td>\n",
       "      <td>0.009537</td>\n",
       "      <td>0.030569</td>\n",
       "      <td>0.878889</td>\n",
       "      <td>0.897659</td>\n",
       "      <td>0.829762</td>\n",
       "      <td>0.870074</td>\n",
       "      <td>0.919048</td>\n",
       "    </tr>\n",
       "    <tr>\n",
       "      <th>4</th>\n",
       "      <td>Quadratic Discriminant Analysis</td>\n",
       "      <td>0.005197</td>\n",
       "      <td>0.015539</td>\n",
       "      <td>0.800000</td>\n",
       "      <td>0.646528</td>\n",
       "      <td>0.666667</td>\n",
       "      <td>0.730069</td>\n",
       "      <td>0.961905</td>\n",
       "    </tr>\n",
       "    <tr>\n",
       "      <th>2</th>\n",
       "      <td>Support Vector Machine</td>\n",
       "      <td>0.007706</td>\n",
       "      <td>0.015810</td>\n",
       "      <td>0.707778</td>\n",
       "      <td>0.353889</td>\n",
       "      <td>0.500000</td>\n",
       "      <td>0.586879</td>\n",
       "      <td>0.990476</td>\n",
       "    </tr>\n",
       "  </tbody>\n",
       "</table>\n",
       "</div>"
      ],
      "text/plain": [
       "                             Model  Fitting time  Scoring time  Accuracy  \\\n",
       "1                    Decision Tree      0.003672      0.013856  1.000000   \n",
       "5                    Random Forest      0.275675      0.049667  1.000000   \n",
       "0              Logistic Regression      0.044536      0.013448  0.970000   \n",
       "7                            Bayes      0.010169      0.022555  0.940000   \n",
       "3     Linear Discriminant Analysis      0.005883      0.018000  0.938889   \n",
       "6              K-Nearest Neighbors      0.009537      0.030569  0.878889   \n",
       "4  Quadratic Discriminant Analysis      0.005197      0.015539  0.800000   \n",
       "2           Support Vector Machine      0.007706      0.015810  0.707778   \n",
       "\n",
       "   Precision    Recall  F1_score   AUC_ROC  \n",
       "1   1.000000  1.000000  1.000000  1.000000  \n",
       "5   1.000000  1.000000  1.000000  1.000000  \n",
       "0   0.975000  0.959524  0.968996  0.995238  \n",
       "7   0.930000  0.957143  0.942152  1.000000  \n",
       "3   0.963889  0.891667  0.931657  0.980952  \n",
       "6   0.897659  0.829762  0.870074  0.919048  \n",
       "4   0.646528  0.666667  0.730069  0.961905  \n",
       "2   0.353889  0.500000  0.586879  0.990476  "
      ]
     },
     "execution_count": 84,
     "metadata": {},
     "output_type": "execute_result"
    }
   ],
   "source": [
    "models_initial = pd.DataFrame({\n",
    "    'Model'       : ['Logistic Regression', 'Decision Tree', 'Support Vector Machine', 'Linear Discriminant Analysis', 'Quadratic Discriminant Analysis', 'Random Forest', 'K-Nearest Neighbors', 'Bayes'],\n",
    "    'Fitting time': [LR_fit_time, dtree_fit_time, SVM_fit_time, LDA_fit_time, QDA_fit_time, forest_fit_time, KNN_fit_time, bayes_fit_time],\n",
    "    'Scoring time': [LR_score_time, dtree_score_time, SVM_score_time, LDA_score_time, QDA_score_time, forest_score_time, KNN_score_time, bayes_score_time],\n",
    "    'Accuracy'    : [LR_accuracy, dtree_accuracy, SVM_accuracy, LDA_accuracy, QDA_accuracy, forest_accuracy, KNN_accuracy, bayes_accuracy],\n",
    "    'Precision'   : [LR_precision, dtree_precision, SVM_precision, LDA_precision, QDA_precision, forest_precision, KNN_precision, bayes_precision],\n",
    "    'Recall'      : [LR_recall, dtree_recall, SVM_recall, LDA_recall, QDA_recall, forest_recall, KNN_recall, bayes_recall],\n",
    "    'F1_score'    : [LR_f1, dtree_f1, SVM_f1, LDA_f1, QDA_f1, forest_f1, KNN_f1, bayes_f1],\n",
    "    'AUC_ROC'     : [LR_roc,dtree_roc, SVM_roc, LDA_roc, QDA_roc, forest_roc, KNN_roc, bayes_roc],\n",
    "    }, columns = ['Model', 'Fitting time', 'Scoring time', 'Accuracy', 'Precision', 'Recall', 'F1_score', 'AUC_ROC'])\n",
    "\n",
    "models_initial.sort_values(by='Accuracy', ascending=False)"
   ]
  },
  {
   "cell_type": "code",
   "execution_count": 85,
   "metadata": {
    "id": "W3E8K9bsFprM"
   },
   "outputs": [],
   "source": [
    "# Performance\n",
    "#p_score = lambda model, score: print('Performance of the %s model is %0.2f%%' % (model, score * 100))\n",
    "\n",
    "# Classifiers\n",
    "#name= [\n",
    "    #\"Logistic Regression\", \"Logistic Regression with Polynomial Hypotheses\",\n",
    "    #\"Linear SVM\", \"RBF SVM\", \"Neural Net\",\n",
    "#]\n",
    "\n",
    "#classifiers = [\n",
    "   # LogisticRegression(),\n",
    "    #make_pipeline(PolynomialFeatures(3), LogisticRegression()),\n",
    "    #SVC(kernel=\"linear\", C=0.025),\n",
    "    #SVC(gamma=2, C=1),\n",
    "    #MLPClassifier(alpha=1),\n",
    "#]#"
   ]
  },
  {
   "cell_type": "code",
   "execution_count": 49,
   "metadata": {
    "id": "LQXy9p7oFprO"
   },
   "outputs": [],
   "source": [
    "#models = []\n",
    "#trained_classifiers = []\n",
    "#for name, clf in zip(name, classifiers):\n",
    "    #scores = []\n",
    "    #for train_indices, test_indices in cv2.split(X):\n",
    "        #clf.fit(X_train, y_train)\n",
    "        #scores.append( clf.score(X_test, y_test.ravel()) )\n",
    "    \n",
    "    #min_score = min(scores)\n",
    "    #max_score = max(scores)\n",
    "    #avg_score = sum(scores) / len(scores)\n",
    "    \n",
    "    #trained_classifiers.append(clf)\n",
    "    #models.append((name, min_score, max_score, avg_score))\n",
    "    \n",
    "#fin_models = pd.DataFrame(models, columns = ['Name', 'Min Score', 'Max Score', 'Mean Score'])\n",
    "#fin_models.sort_values(['Max Score']).head()"
   ]
  },
  {
   "cell_type": "code",
   "execution_count": 50,
   "metadata": {
    "id": "j_L8FwVmFprQ",
    "outputId": "a5c66879-752b-4a4c-afc2-ba0f1c8c4b61"
   },
   "outputs": [
    {
     "name": "stderr",
     "output_type": "stream",
     "text": [
      "C:\\ProgramData\\Anaconda3\\lib\\site-packages\\seaborn\\axisgrid.py:2071: UserWarning: The `size` parameter has been renamed to `height`; please update your code.\n",
      "  warnings.warn(msg, UserWarning)\n"
     ]
    },
    {
     "data": {
      "text/plain": [
       "<seaborn.axisgrid.PairGrid at 0x201cf100130>"
      ]
     },
     "execution_count": 50,
     "metadata": {},
     "output_type": "execute_result"
    },
    {
     "data": {
      "image/png": "[encoded data removed]",
      "text/plain": [
       "<Figure size 604.8x288 with 3 Axes>"
      ]
     },
     "metadata": {
      "needs_background": "light"
     },
     "output_type": "display_data"
    }
   ],
   "source": [
    "sns.pairplot(df_dep, x_vars=['PHQ8_Failure', 'PHQ8_Score', 'PHQ8_Concentrating'], y_vars='PHQ8_Binary', size=4, aspect=0.7, kind='reg')"
   ]
  },
  {
   "cell_type": "code",
   "execution_count": 86,
   "metadata": {
    "colab": {
     "base_uri": "https://localhost:8080/",
     "height": 232
    },
    "executionInfo": {
     "elapsed": 3376,
     "status": "error",
     "timestamp": 1605029029316,
     "user": {
      "displayName": "nadia khodaie",
      "photoUrl": "https://lh3.googleusercontent.com/-lQEArhapi5M/AAAAAAAAAAI/AAAAAAAAABI/wkyEJ1yqTmY/s64/photo.jpg",
      "userId": "03962699466993045402"
     },
     "user_tz": -210
    },
    "id": "_8xku6DIFprT",
    "outputId": "affd5fa5-9e3c-42b5-8c6c-20ef8fcf1d4f"
   },
   "outputs": [],
   "source": [
    "clf_1 = DecisionTreeClassifier()\n",
    "clf_1.fit(X_train, y_train)\n",
    "# Number of folds for cross validation\n",
    "num_folds = 7\n",
    "def plot_curve(ticks, train_scores, test_scores):\n",
    "    train_scores_mean = -1 * np.mean(train_scores, axis=1)\n",
    "    train_scores_std = -1 * np.std(train_scores, axis=1)\n",
    "    test_scores_mean = -1 * np.mean(test_scores, axis=1)\n",
    "    test_scores_std = -1 * np.std(test_scores, axis=1)\n",
    "\n",
    "    plt.figure()\n",
    "    plt.fill_between(ticks, \n",
    "                     train_scores_mean - train_scores_std, \n",
    "                     train_scores_mean + train_scores_std, alpha=0.1, color=\"b\")\n",
    "    plt.fill_between(ticks, \n",
    "                     test_scores_mean - test_scores_std, \n",
    "                     test_scores_mean + test_scores_std, alpha=0.1, color=\"r\")\n",
    "    plt.plot(ticks, train_scores_mean, 'b-', label='Training score')\n",
    "    plt.plot(ticks, test_scores_mean, 'r-', label='Test score')\n",
    "    plt.legend(fancybox=True, facecolor='w')\n",
    "\n",
    "    return plt.gca()\n",
    "\n",
    "def plot_validation_curve(clf, X, y, param_name, param_range, scoring='roc_auc'):\n",
    "    plt.xkcd()\n",
    "    ax = plot_curve(param_range, *validation_curve(clf, X, y, cv=num_folds, \n",
    "                                                   scoring=scoring, \n",
    "                                                   param_name=param_name, \n",
    "                                                   param_range=param_range, n_jobs=-1))\n",
    "    ax.set_title('')\n",
    "    ax.set_xticklabels([])\n",
    "    ax.set_yticklabels([])\n",
    "    ax.set_xlim(2,12)\n",
    "    ax.set_ylim(-0.97, -0.83)\n",
    "    ax.set_ylabel('Error')\n",
    "    ax.set_xlabel('Model complexity')\n",
    "    ax.text(9, -0.94, 'Overfitting', fontsize=22)\n",
    "    ax.text(3, -0.94, 'Underfitting', fontsize=22)\n",
    "    ax.axvline(7, ls='--')\n",
    "    plt.tight_layout()"
   ]
  },
  {
   "cell_type": "code",
   "execution_count": null,
   "metadata": {
    "id": "-m3AVpb7FprV"
   },
   "outputs": [],
   "source": []
  },
  {
   "cell_type": "code",
   "execution_count": null,
   "metadata": {
    "id": "arfTFd38FprX"
   },
   "outputs": [],
   "source": []
  },
  {
   "cell_type": "code",
   "execution_count": null,
   "metadata": {
    "id": "XnhVL1-CFprZ"
   },
   "outputs": [],
   "source": []
  },
  {
   "cell_type": "code",
   "execution_count": 92,
   "metadata": {
    "id": "g8T3N-T4Fpr3"
   },
   "outputs": [
    {
     "ename": "AttributeError",
     "evalue": "'numpy.ndarray' object has no attribute 'head'",
     "output_type": "error",
     "traceback": [
      "\u001b[1;31m---------------------------------------------------------------------------\u001b[0m",
      "\u001b[1;31mAttributeError\u001b[0m                            Traceback (most recent call last)",
      "\u001b[1;32m<ipython-input-92-766c6fecb983>\u001b[0m in \u001b[0;36m<module>\u001b[1;34m\u001b[0m\n\u001b[1;32m----> 1\u001b[1;33m \u001b[0mdev_dep\u001b[0m\u001b[1;33m.\u001b[0m\u001b[0mhead\u001b[0m\u001b[1;33m(\u001b[0m\u001b[1;33m)\u001b[0m\u001b[1;33m\u001b[0m\u001b[1;33m\u001b[0m\u001b[0m\n\u001b[0m",
      "\u001b[1;31mAttributeError\u001b[0m: 'numpy.ndarray' object has no attribute 'head'"
     ]
    }
   ],
   "source": [
    "dev_dep.head()"
   ]
  },
  {
   "cell_type": "code",
   "execution_count": null,
   "metadata": {
    "colab": {
     "base_uri": "https://localhost:8080/"
    },
    "executionInfo": {
     "elapsed": 45401,
     "status": "ok",
     "timestamp": 1605100364592,
     "user": {
      "displayName": "nadia khodaie",
      "photoUrl": "https://lh3.googleusercontent.com/-lQEArhapi5M/AAAAAAAAAAI/AAAAAAAAABI/wkyEJ1yqTmY/s64/photo.jpg",
      "userId": "03962699466993045402"
     },
     "user_tz": -210
    },
    "id": "RNmrvbvobyjS",
    "outputId": "7eca707a-0a38-48a4-f664-af4475b48c55"
   },
   "outputs": [],
   "source": []
  },
  {
   "cell_type": "code",
   "execution_count": 89,
   "metadata": {
    "id": "9bKoKzC3Fpr6",
    "outputId": "f8f8d01f-f9b7-40a3-bb61-c8c5b0d1f9c8"
   },
   "outputs": [
    {
     "name": "stdout",
     "output_type": "stream",
     "text": [
      "TRAIN_split_Depression_AVEC2017\n",
      "train_split_Depression_AVEC2017\n",
      "random forest:\n",
      "              precision    recall  f1-score   support\n",
      "\n",
      "           0       1.00      1.00      1.00        16\n",
      "           1       1.00      1.00      1.00         6\n",
      "\n",
      "    accuracy                           1.00        22\n",
      "   macro avg       1.00      1.00      1.00        22\n",
      "weighted avg       1.00      1.00      1.00        22\n",
      "\n",
      "LogisticRegression:\n",
      "              precision    recall  f1-score   support\n",
      "\n",
      "           0       0.94      1.00      0.97        16\n",
      "           1       1.00      0.83      0.91         6\n",
      "\n",
      "    accuracy                           0.95        22\n",
      "   macro avg       0.97      0.92      0.94        22\n",
      "weighted avg       0.96      0.95      0.95        22\n",
      "\n",
      "DecisionTreeClassifier:\n",
      "              precision    recall  f1-score   support\n",
      "\n",
      "           0       1.00      1.00      1.00        16\n",
      "           1       1.00      1.00      1.00         6\n",
      "\n",
      "    accuracy                           1.00        22\n",
      "   macro avg       1.00      1.00      1.00        22\n",
      "weighted avg       1.00      1.00      1.00        22\n",
      "\n"
     ]
    },
    {
     "name": "stderr",
     "output_type": "stream",
     "text": [
      "C:\\ProgramData\\Anaconda3\\lib\\site-packages\\sklearn\\linear_model\\_logistic.py:762: ConvergenceWarning: lbfgs failed to converge (status=1):\n",
      "STOP: TOTAL NO. of ITERATIONS REACHED LIMIT.\n",
      "\n",
      "Increase the number of iterations (max_iter) or scale the data as shown in:\n",
      "    https://scikit-learn.org/stable/modules/preprocessing.html\n",
      "Please also refer to the documentation for alternative solver options:\n",
      "    https://scikit-learn.org/stable/modules/linear_model.html#logistic-regression\n",
      "  n_iter_i = _check_optimize_result(\n",
      "C:\\ProgramData\\Anaconda3\\lib\\site-packages\\sklearn\\linear_model\\_logistic.py:762: ConvergenceWarning: lbfgs failed to converge (status=1):\n",
      "STOP: TOTAL NO. of ITERATIONS REACHED LIMIT.\n",
      "\n",
      "Increase the number of iterations (max_iter) or scale the data as shown in:\n",
      "    https://scikit-learn.org/stable/modules/preprocessing.html\n",
      "Please also refer to the documentation for alternative solver options:\n",
      "    https://scikit-learn.org/stable/modules/linear_model.html#logistic-regression\n",
      "  n_iter_i = _check_optimize_result(\n",
      "C:\\ProgramData\\Anaconda3\\lib\\site-packages\\sklearn\\linear_model\\_logistic.py:762: ConvergenceWarning: lbfgs failed to converge (status=1):\n",
      "STOP: TOTAL NO. of ITERATIONS REACHED LIMIT.\n",
      "\n",
      "Increase the number of iterations (max_iter) or scale the data as shown in:\n",
      "    https://scikit-learn.org/stable/modules/preprocessing.html\n",
      "Please also refer to the documentation for alternative solver options:\n",
      "    https://scikit-learn.org/stable/modules/linear_model.html#logistic-regression\n",
      "  n_iter_i = _check_optimize_result(\n",
      "C:\\ProgramData\\Anaconda3\\lib\\site-packages\\sklearn\\linear_model\\_logistic.py:762: ConvergenceWarning: lbfgs failed to converge (status=1):\n",
      "STOP: TOTAL NO. of ITERATIONS REACHED LIMIT.\n",
      "\n",
      "Increase the number of iterations (max_iter) or scale the data as shown in:\n",
      "    https://scikit-learn.org/stable/modules/preprocessing.html\n",
      "Please also refer to the documentation for alternative solver options:\n",
      "    https://scikit-learn.org/stable/modules/linear_model.html#logistic-regression\n",
      "  n_iter_i = _check_optimize_result(\n",
      "C:\\ProgramData\\Anaconda3\\lib\\site-packages\\sklearn\\linear_model\\_logistic.py:762: ConvergenceWarning: lbfgs failed to converge (status=1):\n",
      "STOP: TOTAL NO. of ITERATIONS REACHED LIMIT.\n",
      "\n",
      "Increase the number of iterations (max_iter) or scale the data as shown in:\n",
      "    https://scikit-learn.org/stable/modules/preprocessing.html\n",
      "Please also refer to the documentation for alternative solver options:\n",
      "    https://scikit-learn.org/stable/modules/linear_model.html#logistic-regression\n",
      "  n_iter_i = _check_optimize_result(\n",
      "C:\\ProgramData\\Anaconda3\\lib\\site-packages\\sklearn\\linear_model\\_logistic.py:762: ConvergenceWarning: lbfgs failed to converge (status=1):\n",
      "STOP: TOTAL NO. of ITERATIONS REACHED LIMIT.\n",
      "\n",
      "Increase the number of iterations (max_iter) or scale the data as shown in:\n",
      "    https://scikit-learn.org/stable/modules/preprocessing.html\n",
      "Please also refer to the documentation for alternative solver options:\n",
      "    https://scikit-learn.org/stable/modules/linear_model.html#logistic-regression\n",
      "  n_iter_i = _check_optimize_result(\n",
      "C:\\ProgramData\\Anaconda3\\lib\\site-packages\\sklearn\\linear_model\\_logistic.py:762: ConvergenceWarning: lbfgs failed to converge (status=1):\n",
      "STOP: TOTAL NO. of ITERATIONS REACHED LIMIT.\n",
      "\n",
      "Increase the number of iterations (max_iter) or scale the data as shown in:\n",
      "    https://scikit-learn.org/stable/modules/preprocessing.html\n",
      "Please also refer to the documentation for alternative solver options:\n",
      "    https://scikit-learn.org/stable/modules/linear_model.html#logistic-regression\n",
      "  n_iter_i = _check_optimize_result(\n",
      "C:\\ProgramData\\Anaconda3\\lib\\site-packages\\sklearn\\linear_model\\_logistic.py:762: ConvergenceWarning: lbfgs failed to converge (status=1):\n",
      "STOP: TOTAL NO. of ITERATIONS REACHED LIMIT.\n",
      "\n",
      "Increase the number of iterations (max_iter) or scale the data as shown in:\n",
      "    https://scikit-learn.org/stable/modules/preprocessing.html\n",
      "Please also refer to the documentation for alternative solver options:\n",
      "    https://scikit-learn.org/stable/modules/linear_model.html#logistic-regression\n",
      "  n_iter_i = _check_optimize_result(\n",
      "C:\\ProgramData\\Anaconda3\\lib\\site-packages\\sklearn\\linear_model\\_logistic.py:762: ConvergenceWarning: lbfgs failed to converge (status=1):\n",
      "STOP: TOTAL NO. of ITERATIONS REACHED LIMIT.\n",
      "\n",
      "Increase the number of iterations (max_iter) or scale the data as shown in:\n",
      "    https://scikit-learn.org/stable/modules/preprocessing.html\n",
      "Please also refer to the documentation for alternative solver options:\n",
      "    https://scikit-learn.org/stable/modules/linear_model.html#logistic-regression\n",
      "  n_iter_i = _check_optimize_result(\n",
      "C:\\ProgramData\\Anaconda3\\lib\\site-packages\\sklearn\\linear_model\\_logistic.py:762: ConvergenceWarning: lbfgs failed to converge (status=1):\n",
      "STOP: TOTAL NO. of ITERATIONS REACHED LIMIT.\n",
      "\n",
      "Increase the number of iterations (max_iter) or scale the data as shown in:\n",
      "    https://scikit-learn.org/stable/modules/preprocessing.html\n",
      "Please also refer to the documentation for alternative solver options:\n",
      "    https://scikit-learn.org/stable/modules/linear_model.html#logistic-regression\n",
      "  n_iter_i = _check_optimize_result(\n",
      "C:\\ProgramData\\Anaconda3\\lib\\site-packages\\sklearn\\linear_model\\_logistic.py:762: ConvergenceWarning: lbfgs failed to converge (status=1):\n",
      "STOP: TOTAL NO. of ITERATIONS REACHED LIMIT.\n",
      "\n",
      "Increase the number of iterations (max_iter) or scale the data as shown in:\n",
      "    https://scikit-learn.org/stable/modules/preprocessing.html\n",
      "Please also refer to the documentation for alternative solver options:\n",
      "    https://scikit-learn.org/stable/modules/linear_model.html#logistic-regression\n",
      "  n_iter_i = _check_optimize_result(\n",
      "C:\\ProgramData\\Anaconda3\\lib\\site-packages\\sklearn\\linear_model\\_logistic.py:762: ConvergenceWarning: lbfgs failed to converge (status=1):\n",
      "STOP: TOTAL NO. of ITERATIONS REACHED LIMIT.\n",
      "\n",
      "Increase the number of iterations (max_iter) or scale the data as shown in:\n",
      "    https://scikit-learn.org/stable/modules/preprocessing.html\n",
      "Please also refer to the documentation for alternative solver options:\n",
      "    https://scikit-learn.org/stable/modules/linear_model.html#logistic-regression\n",
      "  n_iter_i = _check_optimize_result(\n"
     ]
    },
    {
     "data": {
      "image/png": "[encoded data removed]",
      "text/plain": [
       "<Figure size 432x288 with 1 Axes>"
      ]
     },
     "metadata": {
      "needs_background": "light"
     },
     "output_type": "display_data"
    }
   ],
   "source": [
    "\n",
    "print(\"TRAIN_split_Depression_AVEC2017\")\n",
    "# As seen above, we're getting all the columns except \"passed\" here but we're converting it to a list\n",
    "feature_colsT = list(train_dep.loc[:, train_dep.columns != 'PHQ8_Binary'])\n",
    "target_colT = train_dep.columns.values[1]\n",
    "# Separate the data into feature data and target data (X_all and y_all, respectively)\n",
    "X_allT = train_dep[feature_colsT]\n",
    "y_allT = train_dep[target_colT]\n",
    "# For initial train/test split, we can obtain stratification by simply using stratify = y_all:\n",
    "X_trainT, X_testT, y_trainT, y_testT = train_test_split(X_allT, y_allT, stratify = y_allT, test_size=0.2, random_state=0)\n",
    "print(\"train_split_Depression_AVEC2017\")\n",
    "rfTRA = RandomForestClassifier(random_state=0)\n",
    "rfTRA.fit(X_trainT, y_trainT)\n",
    "y_predTRA = rfTRA.predict(X_testT)\n",
    "print(\"random forest:\")\n",
    "print(classification_report(y_testT, y_predTRA))\n",
    "print(\"LogisticRegression:\")\n",
    "rfTRA = LogisticRegression(random_state=0)\n",
    "rfTRA.fit(X_trainT, y_trainT)\n",
    "y_predTRA = rfTRA.predict(X_testT)\n",
    "print(classification_report(y_testT,y_predTRA))\n",
    "print(\"DecisionTreeClassifier:\")\n",
    "rfTRA = DecisionTreeClassifier(random_state=0)\n",
    "rfTRA.fit(X_trainT, y_trainT)\n",
    "y_predTRA = rfTRA.predict(X_testT)\n",
    "print(classification_report(y_testT,y_predTRA))\n",
    "\n",
    "\n",
    "from sklearn.metrics import precision_recall_curve\n",
    "from sklearn.model_selection import train_test_split, cross_val_score, cross_val_predict, StratifiedKFold\n",
    "# Logistic Regression\n",
    "clf_logreg = LogisticRegression()\n",
    "# fit model\n",
    "clf_logreg.fit(X_trainT, y_trainT)\n",
    "# Make class predictions for the validation set.\n",
    "y_pred_class_logreg = cross_val_predict(clf_logreg, X_trainT, y_trainT)\n",
    "# predicted probabilities for class 1, probabilities of positive class\n",
    "y_pred_prob_logreg = cross_val_predict(clf_logreg, X_trainT, y_trainT, method=\"predict_proba\")\n",
    "y_pred_prob_logreg_class1 = y_pred_prob_logreg[:, 1]\n",
    "precisions, recalls, train_dep = precision_recall_curve(y_trainT, y_pred_prob_logreg_class1)\n",
    "def plot_precision_recall_vs_train_dep(precisions, recalls, train_dep):\n",
    "    plt.plot(train_dep, precisions[:-1], \"b--\", label=\"Precision\")\n",
    "    plt.plot(train_dep, recalls[:-1], \"g-\", label=\"Recall\")\n",
    "    plt.xlabel(\"TRAIN_split_Depression_AVEC2017 \")\n",
    "    plt.legend(loc=\"upper left\")\n",
    "    plt.ylim([0, 1])\n",
    "    \n",
    "plot_precision_recall_vs_train_dep(precisions, recalls,train_dep)\n",
    "plt.show()\n",
    "\n",
    "\n",
    "\n",
    "\n"
   ]
  },
  {
   "cell_type": "code",
   "execution_count": 132,
   "metadata": {
    "id": "buuwU6kSFpr8",
    "outputId": "58c42eca-fece-4d2d-daaf-c201c16346f2"
   },
   "outputs": [
    {
     "name": "stdout",
     "output_type": "stream",
     "text": [
      "0.08991138064902095\n",
      "0.0686333111793957\n"
     ]
    }
   ],
   "source": [
    "#print(\"TOTAL\")\n",
    "linreg = LinearRegression()\n",
    "linreg.fit(X_train, y_train)\n",
    "# make predictions on the testing set\n",
    "y_pred = linreg.predict(X_test)\n",
    "# compute the RMSE of our predictions\n",
    "RMSE = np.sqrt(metrics.mean_squared_error(y_test, y_pred))\n",
    "MAE = metrics.mean_absolute_error(y_test,y_pred)\n",
    "Mse = metrics.mean_squared_error(y_test,y_pred)\n",
    "#print(\"dev_split_Depression_AVEC2017\")\n",
    "linregDEV = LinearRegression()\n",
    "linregDEV.fit(X_trainV, y_trainV)\n",
    "# make predictions on the testing set\n",
    "y_predV = linregDEV.predict(X_testV)\n",
    "# compute the RMSE of our predictions\n",
    "RMSEDEV = np.sqrt(metrics.mean_squared_error(y_testV, y_predV))\n",
    "MAEDEV = metrics.mean_absolute_error(y_testV,y_predV)\n",
    "MseDEV = metrics.mean_squared_error(y_testV,y_predV)\n",
    "print(MseDEV)\n",
    "#print(\"TRAIN_split_Depression_AVEC2017\")\n",
    "linregTRA = LinearRegression()\n",
    "linregTRA.fit(X_trainT, y_trainT)\n",
    "# make predictions on the testing set\n",
    "y_predT = linregTRA.predict(X_testT)\n",
    "# compute the RMSE of our predictions\n",
    "RMSETRA = np.sqrt(metrics.mean_squared_error(y_testT, y_predT))\n",
    "MAETRA = metrics.mean_absolute_error(y_testT,y_predT)\n",
    "MseTRA = metrics.mean_squared_error(y_testT,y_predT)\n",
    "print(MseTRA)\n"
   ]
  },
  {
   "cell_type": "code",
   "execution_count": 126,
   "metadata": {
    "id": "tA6CVGwXFpr-",
    "outputId": "ff9ee2c6-98da-4a60-ad53-0a860f8ff97f"
   },
   "outputs": [
    {
     "data": {
      "text/html": [
       "<div>\n",
       "<style scoped>\n",
       "    .dataframe tbody tr th:only-of-type {\n",
       "        vertical-align: middle;\n",
       "    }\n",
       "\n",
       "    .dataframe tbody tr th {\n",
       "        vertical-align: top;\n",
       "    }\n",
       "\n",
       "    .dataframe thead th {\n",
       "        text-align: right;\n",
       "    }\n",
       "</style>\n",
       "<table border=\"1\" class=\"dataframe\">\n",
       "  <thead>\n",
       "    <tr style=\"text-align: right;\">\n",
       "      <th></th>\n",
       "      <th>MODEL</th>\n",
       "      <th>RMSE</th>\n",
       "      <th>MAE</th>\n",
       "      <th>Mse</th>\n",
       "    </tr>\n",
       "  </thead>\n",
       "  <tbody>\n",
       "    <tr>\n",
       "      <th>2</th>\n",
       "      <td>TRAIN_SPLIT</td>\n",
       "      <td>0.261980</td>\n",
       "      <td>0.204661</td>\n",
       "      <td>0.068633</td>\n",
       "    </tr>\n",
       "    <tr>\n",
       "      <th>0</th>\n",
       "      <td>TOTAL dataset</td>\n",
       "      <td>0.277068</td>\n",
       "      <td>0.224423</td>\n",
       "      <td>0.076766</td>\n",
       "    </tr>\n",
       "    <tr>\n",
       "      <th>1</th>\n",
       "      <td>DEV_SPLIT</td>\n",
       "      <td>0.299852</td>\n",
       "      <td>0.250186</td>\n",
       "      <td>0.089911</td>\n",
       "    </tr>\n",
       "  </tbody>\n",
       "</table>\n",
       "</div>"
      ],
      "text/plain": [
       "           MODEL      RMSE       MAE       Mse\n",
       "2    TRAIN_SPLIT  0.261980  0.204661  0.068633\n",
       "0  TOTAL dataset  0.277068  0.224423  0.076766\n",
       "1      DEV_SPLIT  0.299852  0.250186  0.089911"
      ]
     },
     "execution_count": 126,
     "metadata": {},
     "output_type": "execute_result"
    }
   ],
   "source": [
    "models_initial2 = pd.DataFrame({\n",
    " 'MODEL' : [\"TOTAL dataset\",\"DEV_SPLIT\",\"TRAIN_SPLIT\"],\n",
    " 'RMSE' : [RMSE,RMSEDEV,RMSETRA],\n",
    " 'MAE'  : [MAE,MAEDEV,MAETRA],\n",
    " 'Mse'  : [Mse,MseDEV,MseTRA], }, columns = ['MODEL','RMSE', 'MAE', 'Mse'])\n",
    "models_initial2.sort_values(by='MODEL', ascending=False)\n",
    "    "
   ]
  },
  {
   "cell_type": "code",
   "execution_count": 127,
   "metadata": {
    "id": "qkYKUGuAFpsA",
    "outputId": "a54eb638-8961-4a54-b140-bfaaff7000ac"
   },
   "outputs": [
    {
     "data": {
      "image/png": "[encoded data removed]",
      "text/plain": [
       "<Figure size 576x396 with 1 Axes>"
      ]
     },
     "metadata": {},
     "output_type": "display_data"
    }
   ],
   "source": [
    "#This means that choosing a large number of estimators in \n",
    "#a random forest model is not the best idea. Although it \n",
    "#will not degrade the model, it can save you the computational complexity \n",
    "#and prevent the use of a fire extinguisher on your CPU!\n",
    "from sklearn.metrics import roc_curve, auc\n",
    "n_estimators = [ 3, 4, 8, 16, 100]\n",
    "train_results = []\n",
    "test_results = []\n",
    "for estimator in n_estimators: \n",
    "   rf = RandomForestClassifier(n_estimators=estimator, n_jobs=-1)\n",
    "   rf.fit(X_train, y_train)\n",
    "   train_pred = rf.predict(X_train)\n",
    "   y_pred = rf.predict(X_test)\n",
    "   roc_curve(y_test, y_pred)\n",
    "   false_positive_rate, true_positive_rate, thresholds = roc_curve(y_train, train_pred)\n",
    "   roc_auc = auc(false_positive_rate, true_positive_rate)\n",
    "   train_results.append(roc_auc)\n",
    "   y_pred = rf.predict(X_test)\n",
    "   false_positive_rate, true_positive_rate, thresholds = roc_curve(y_test, y_pred)\n",
    "   roc_auc = auc(false_positive_rate, true_positive_rate)\n",
    "   test_results.append(roc_auc)\n",
    "from matplotlib.legend_handler import HandlerLine2D\n",
    "line1= plt.plot(n_estimators, train_results,'b', label=\"Train AUC\")\n",
    "line2= plt.plot(n_estimators, test_results,'r', label=\"Test AUC\")\n",
    "\n",
    "plt.ylabel('AUC score')\n",
    "plt.xlabel('n_estimators')\n",
    "plt.show()"
   ]
  },
  {
   "cell_type": "code",
   "execution_count": 102,
   "metadata": {
    "id": "8AO7XbvpFpsB",
    "outputId": "90fb5a76-7bb0-419a-8d0b-cde7b70834d4"
   },
   "outputs": [
    {
     "data": {
      "image/png": "[encoded data removed]",
      "text/plain": [
       "<Figure size 576x396 with 1 Axes>"
      ]
     },
     "metadata": {},
     "output_type": "display_data"
    }
   ],
   "source": [
    "max_features = list(range(1,X_train.shape[1]))\n",
    "train_results = []\n",
    "test_results = []\n",
    "for max_feature in max_features:\n",
    "   rf = RandomForestClassifier(max_features=max_feature)\n",
    "   rf.fit(X_train, y_train)\n",
    "   train_pred = rf.predict(X_train)\n",
    "   false_positive_rate, true_positive_rate, thresholds = roc_curve(y_train, train_pred)\n",
    "   roc_auc = auc(false_positive_rate, true_positive_rate)\n",
    "   train_results.append(roc_auc)\n",
    "   y_pred = rf.predict(X_test)\n",
    "   false_positive_rate, true_positive_rate, thresholds = roc_curve(y_test, y_pred)\n",
    "   roc_auc = auc(false_positive_rate, true_positive_rate)\n",
    "   test_results.append(roc_auc)\n",
    "from matplotlib.legend_handler import HandlerLine2D\n",
    "line1= plt.plot(max_features, train_results, 'b', label=\"Train AUC\")\n",
    "line2= plt.plot(max_features, test_results,'r', label=\"Test AUC\")\n",
    "plt.legend()\n",
    "plt.ylabel('AUC score')\n",
    "plt.xlabel('max features')\n",
    "plt.show()\n"
   ]
  },
  {
   "cell_type": "code",
   "execution_count": null,
   "metadata": {
    "id": "F_Xtu7GiFpsC",
    "outputId": "780e9888-0e03-4957-ac04-2908f2a71b3e"
   },
   "outputs": [],
   "source": [
    "\n"
   ]
  },
  {
   "cell_type": "code",
   "execution_count": null,
   "metadata": {
    "id": "2AFKgk-RFpsE",
    "outputId": "40bb7dfa-216a-49ef-9f73-9d6a19494126"
   },
   "outputs": [],
   "source": []
  },
  {
   "cell_type": "code",
   "execution_count": null,
   "metadata": {
    "id": "jIUB7sKhFpsF"
   },
   "outputs": [],
   "source": []
  },
  {
   "cell_type": "code",
   "execution_count": null,
   "metadata": {
    "id": "S3loLVMzFpsH"
   },
   "outputs": [],
   "source": []
  },
  {
   "cell_type": "code",
   "execution_count": 101,
   "metadata": {
    "colab": {
     "base_uri": "https://localhost:8080/",
     "height": 232
    },
    "executionInfo": {
     "elapsed": 1387,
     "status": "error",
     "timestamp": 1605034600831,
     "user": {
      "displayName": "nadia khodaie",
      "photoUrl": "https://lh3.googleusercontent.com/-lQEArhapi5M/AAAAAAAAAAI/AAAAAAAAABI/wkyEJ1yqTmY/s64/photo.jpg",
      "userId": "03962699466993045402"
     },
     "user_tz": -210
    },
    "id": "1PqKzsGtFpr4",
    "outputId": "9683eaf7-7045-43c7-f3bc-15447f406dea"
   },
   "outputs": [
    {
     "ename": "AttributeError",
     "evalue": "'numpy.ndarray' object has no attribute 'loc'",
     "output_type": "error",
     "traceback": [
      "\u001b[1;31m---------------------------------------------------------------------------\u001b[0m",
      "\u001b[1;31mAttributeError\u001b[0m                            Traceback (most recent call last)",
      "\u001b[1;32m<ipython-input-101-c70e62297e7f>\u001b[0m in \u001b[0;36m<module>\u001b[1;34m\u001b[0m\n\u001b[0;32m      3\u001b[0m \u001b[1;32mfrom\u001b[0m \u001b[0msklearn\u001b[0m\u001b[1;33m.\u001b[0m\u001b[0mmetrics\u001b[0m \u001b[1;32mimport\u001b[0m \u001b[0mplot_roc_curve\u001b[0m\u001b[1;33m\u001b[0m\u001b[1;33m\u001b[0m\u001b[0m\n\u001b[0;32m      4\u001b[0m \u001b[1;32mfrom\u001b[0m \u001b[0msklearn\u001b[0m\u001b[1;33m.\u001b[0m\u001b[0mmetrics\u001b[0m \u001b[1;32mimport\u001b[0m \u001b[0mroc_curve\u001b[0m\u001b[1;33m\u001b[0m\u001b[1;33m\u001b[0m\u001b[0m\n\u001b[1;32m----> 5\u001b[1;33m \u001b[0mfeature_colsV\u001b[0m \u001b[1;33m=\u001b[0m\u001b[0mlist\u001b[0m\u001b[1;33m(\u001b[0m\u001b[0mdev_dep\u001b[0m\u001b[1;33m.\u001b[0m\u001b[0mloc\u001b[0m\u001b[1;33m[\u001b[0m\u001b[1;33m:\u001b[0m\u001b[1;33m,\u001b[0m \u001b[0mdev_dep\u001b[0m\u001b[1;33m.\u001b[0m\u001b[0mcolumns\u001b[0m \u001b[1;33m!=\u001b[0m \u001b[1;34m'PHQ8_Binary'\u001b[0m\u001b[1;33m]\u001b[0m\u001b[1;33m)\u001b[0m\u001b[1;33m\u001b[0m\u001b[1;33m\u001b[0m\u001b[0m\n\u001b[0m\u001b[0;32m      6\u001b[0m \u001b[0mtarget_colV\u001b[0m \u001b[1;33m=\u001b[0m \u001b[0mdev_dep\u001b[0m\u001b[1;33m.\u001b[0m\u001b[0mcolumns\u001b[0m\u001b[1;33m.\u001b[0m\u001b[0mvalues\u001b[0m\u001b[1;33m[\u001b[0m\u001b[1;36m1\u001b[0m\u001b[1;33m]\u001b[0m\u001b[1;33m\u001b[0m\u001b[1;33m\u001b[0m\u001b[0m\n\u001b[0;32m      7\u001b[0m \u001b[1;31m# Separate the data into feature data and target data (X_all and y_all, respectively)\u001b[0m\u001b[1;33m\u001b[0m\u001b[1;33m\u001b[0m\u001b[1;33m\u001b[0m\u001b[0m\n",
      "\u001b[1;31mAttributeError\u001b[0m: 'numpy.ndarray' object has no attribute 'loc'"
     ]
    }
   ],
   "source": [
    "#Extract feature columns\n",
    "# As seen above, we're getting all the columns except \"passed\" here but we're converting it to a list\n",
    "from sklearn.metrics import plot_roc_curve\n",
    "from sklearn.metrics import roc_curve\n",
    "feature_colsV =list(dev_dep.loc[:, dev_dep.columns != 'PHQ8_Binary'])\n",
    "target_colV = dev_dep.columns.values[1]\n",
    "# Separate the data into feature data and target data (X_all and y_all, respectively)\n",
    "X_allV = dev_dep[feature_colsV]\n",
    "y_allV = dev_dep[target_colV]\n",
    "# For initial train/test split, we can obtain stratification by simply using stratify = y_all:\n",
    "X_trainV, X_testV, y_trainV, y_testV = train_test_split(X_allV, y_allV, stratify = y_allV, test_size=0.2, random_state=0)\n",
    "print(\"dev_split_Depression_AVEC2017\")\n",
    "rfDEVR = RandomForestClassifier(random_state=0)\n",
    "rfDEVR.fit(X_trainV, y_trainV)\n",
    "y_predDEVR = rfDEVR.predict(X_testV)\n",
    "print(\"random forest:\")\n",
    "print(classification_report(y_testV, y_predDEVR))\n",
    "print(\"LogisticRegression:\")\n",
    "rfDEVL = LogisticRegression(random_state=0)\n",
    "rfDEVL.fit(X_trainV, y_trainV)\n",
    "y_predDEVL = rfDEVL.predict(X_testV)\n",
    "print(classification_report(y_testV,y_predDEVL))\n",
    "print(\"DecisionTreeClassifier:\")\n",
    "rfDEVD = DecisionTreeClassifier(random_state=0)\n",
    "rfDEVD.fit(X_trainV, y_trainV)\n",
    "y_predDEVD = rfDEVD.predict(X_testV)\n",
    "print(classification_report(y_testV,y_predDEVD))\n",
    "from sklearn.metrics import precision_recall_curve\n",
    "from sklearn.model_selection import train_test_split, cross_val_score, cross_val_predict, StratifiedKFold\n",
    "# Logistic Regression\n",
    "clf_logreg = LogisticRegression()\n",
    "# fit model\n",
    "clf_logreg.fit(X_trainV, y_trainV)\n",
    "# Make class predictions for the validation set.\n",
    "y_pred_class_logreg = cross_val_predict(clf_logreg, X_trainV, y_trainV)\n",
    "# predicted probabilities for class 1, probabilities of positive class\n",
    "y_pred_prob_logreg = cross_val_predict(clf_logreg, X_trainV, y_trainV, method=\"predict_proba\")\n",
    "y_pred_prob_logreg_classV = y_pred_prob_logreg[:, 1]\n",
    "precisions, recalls,dev_dep = precision_recall_curve(y_trainV, y_pred_prob_logreg_classV)\n",
    "def plot_precision_recall_vs_dev_dep(precisions,recalls,dev_dep):\n",
    "    plt.plot(dev_dep, precisions[:-1], \"b--\", label=\"Precision\")\n",
    "    plt.plot(dev_dep, recalls[:-1], \"g-\", label=\"Recall\")\n",
    "    plt.xlabel(\"dev_split_Depression_AVEC2017 \")\n",
    "    plt.legend(loc=\"upper left\")\n",
    "    plt.ylim([0, 1])\n",
    "    \n",
    "plot_precision_recall_vs_dev_dep(precisions,recalls,dev_dep)\n",
    "plt.show()\n",
    "fpr,tpr,thresholds = roc_curve(y_testV,y_predDEVL[:,1])\n",
    "plt.plot(fpr,tpr)\n",
    "plt.plot([0,1], [0,1],linestyle='_ _')\n",
    "plt.xlim([0.0,1.0])\n",
    "plt.ylim([0.0,1.0])\n",
    "plt.xlabel('1-specifi')\n",
    "plt.xlabel('sensit')\n",
    "plt.ylim([0, 1])\n",
    "plt.show()"
   ]
  }
 ],
 "metadata": {
  "colab": {
   "collapsed_sections": [],
   "name": "depression2.ipynb",
   "provenance": []
  },
  "kernelspec": {
   "display_name": "Python 3",
   "language": "python",
   "name": "python3"
  },
  "language_info": {
   "codemirror_mode": {
    "name": "ipython",
    "version": 3
   },
   "file_extension": ".py",
   "mimetype": "text/x-python",
   "name": "python",
   "nbconvert_exporter": "python",
   "pygments_lexer": "ipython3",
   "version": "3.8.3"
  }
 },
 "nbformat": 4,
 "nbformat_minor": 1
}
